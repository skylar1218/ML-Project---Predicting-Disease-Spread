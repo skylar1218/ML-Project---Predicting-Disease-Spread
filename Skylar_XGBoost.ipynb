{
  "nbformat": 4,
  "nbformat_minor": 0,
  "metadata": {
    "colab": {
      "name": "Skylar - XGBoost.ipynb",
      "provenance": [],
      "collapsed_sections": [],
      "include_colab_link": true
    },
    "kernelspec": {
      "name": "python3",
      "display_name": "Python 3"
    }
  },
  "cells": [
    {
      "cell_type": "markdown",
      "metadata": {
        "id": "view-in-github",
        "colab_type": "text"
      },
      "source": [
        "<a href=\"https://colab.research.google.com/github/skylar1218/ML-Project---Predicting-Disease-Spread/blob/master/Skylar_XGBoost.ipynb\" target=\"_parent\"><img src=\"https://colab.research.google.com/assets/colab-badge.svg\" alt=\"Open In Colab\"/></a>"
      ]
    },
    {
      "cell_type": "code",
      "metadata": {
        "colab_type": "code",
        "outputId": "fe577528-5e81-44b9-a52d-15d55dd9838f",
        "id": "vkl7MbfZ67f1",
        "colab": {
          "base_uri": "https://localhost:8080/",
          "height": 122
        }
      },
      "source": [
        "from google.colab import drive\n",
        "drive.mount('/content/drive')"
      ],
      "execution_count": 0,
      "outputs": [
        {
          "output_type": "stream",
          "text": [
            "Go to this URL in a browser: https://accounts.google.com/o/oauth2/auth?client_id=947318989803-6bn6qk8qdgf4n4g3pfee6491hc0brc4i.apps.googleusercontent.com&redirect_uri=urn%3aietf%3awg%3aoauth%3a2.0%3aoob&response_type=code&scope=email%20https%3a%2f%2fwww.googleapis.com%2fauth%2fdocs.test%20https%3a%2f%2fwww.googleapis.com%2fauth%2fdrive%20https%3a%2f%2fwww.googleapis.com%2fauth%2fdrive.photos.readonly%20https%3a%2f%2fwww.googleapis.com%2fauth%2fpeopleapi.readonly\n",
            "\n",
            "Enter your authorization code:\n",
            "··········\n",
            "Mounted at /content/drive\n"
          ],
          "name": "stdout"
        }
      ]
    },
    {
      "cell_type": "code",
      "metadata": {
        "colab_type": "code",
        "outputId": "9d1943c6-90ba-4a22-ccb4-5e69941d28db",
        "id": "EQ6S23Lw67gI",
        "colab": {
          "base_uri": "https://localhost:8080/",
          "height": 34
        }
      },
      "source": [
        "%cd drive"
      ],
      "execution_count": 0,
      "outputs": [
        {
          "output_type": "stream",
          "text": [
            "/content/drive\n"
          ],
          "name": "stdout"
        }
      ]
    },
    {
      "cell_type": "markdown",
      "metadata": {
        "id": "Uoo0b5HRcCQa",
        "colab_type": "text"
      },
      "source": [
        "# Import Data"
      ]
    },
    {
      "cell_type": "code",
      "metadata": {
        "id": "Jx4JiygTnWC6",
        "colab_type": "code",
        "colab": {}
      },
      "source": [
        "# import package\n",
        "import numpy as np\n",
        "import pandas as pd"
      ],
      "execution_count": 0,
      "outputs": []
    },
    {
      "cell_type": "code",
      "metadata": {
        "id": "zX7aARiynnP7",
        "colab_type": "code",
        "colab": {}
      },
      "source": [
        "# import csv files\n",
        "url = \"https://raw.githubusercontent.com/skylar1218/ML-Project---Predicting-Disease-Spread/master/data/dengue_features_train.csv\"\n",
        "dengue_features_train = pd.read_csv(url)"
      ],
      "execution_count": 0,
      "outputs": []
    },
    {
      "cell_type": "code",
      "metadata": {
        "id": "BDWhIO00nnYY",
        "colab_type": "code",
        "colab": {}
      },
      "source": [
        "url = \"https://raw.githubusercontent.com/skylar1218/ML-Project---Predicting-Disease-Spread/master/data/dengue_labels_train.csv\"\n",
        "dengue_labels_train = pd.read_csv(url)"
      ],
      "execution_count": 0,
      "outputs": []
    },
    {
      "cell_type": "code",
      "metadata": {
        "id": "pi-2gRLwmjRl",
        "colab_type": "code",
        "colab": {}
      },
      "source": [
        "url = 'https://raw.githubusercontent.com/skylar1218/ML-Project---Predicting-Disease-Spread/master/data/dengue_features_test.csv'\n",
        "dengue_features_test = pd.read_csv(url)"
      ],
      "execution_count": 0,
      "outputs": []
    },
    {
      "cell_type": "markdown",
      "metadata": {
        "id": "0UoLUUtWcHgj",
        "colab_type": "text"
      },
      "source": [
        "# Data Description"
      ]
    },
    {
      "cell_type": "code",
      "metadata": {
        "id": "QuzB43e2txTa",
        "colab_type": "code",
        "colab": {}
      },
      "source": [
        "dengue_features_train"
      ],
      "execution_count": 0,
      "outputs": []
    },
    {
      "cell_type": "code",
      "metadata": {
        "id": "TItrxQb0ZbqC",
        "colab_type": "code",
        "colab": {}
      },
      "source": [
        "dengue_features_train.shape"
      ],
      "execution_count": 0,
      "outputs": []
    },
    {
      "cell_type": "code",
      "metadata": {
        "id": "pIWVE6iStxYh",
        "colab_type": "code",
        "colab": {}
      },
      "source": [
        "dengue_labels_train"
      ],
      "execution_count": 0,
      "outputs": []
    },
    {
      "cell_type": "code",
      "metadata": {
        "id": "XiYWkzipZp4x",
        "colab_type": "code",
        "colab": {}
      },
      "source": [
        "dengue_labels_train.shape"
      ],
      "execution_count": 0,
      "outputs": []
    },
    {
      "cell_type": "code",
      "metadata": {
        "id": "BRkImmY3ndEg",
        "colab_type": "code",
        "colab": {}
      },
      "source": [
        "dengue_features_test"
      ],
      "execution_count": 0,
      "outputs": []
    },
    {
      "cell_type": "code",
      "metadata": {
        "id": "WiORoxxrZsDr",
        "colab_type": "code",
        "colab": {}
      },
      "source": [
        "dengue_features_test.shape"
      ],
      "execution_count": 0,
      "outputs": []
    },
    {
      "cell_type": "code",
      "metadata": {
        "id": "My7oDpjYIBRJ",
        "colab_type": "code",
        "colab": {}
      },
      "source": [
        "dengue_features_train.info()"
      ],
      "execution_count": 0,
      "outputs": []
    },
    {
      "cell_type": "code",
      "metadata": {
        "id": "NXyHgh3rIBX7",
        "colab_type": "code",
        "colab": {}
      },
      "source": [
        "dengue_features_train.describe()"
      ],
      "execution_count": 0,
      "outputs": []
    },
    {
      "cell_type": "code",
      "metadata": {
        "id": "wbvrp-seTNit",
        "colab_type": "code",
        "colab": {}
      },
      "source": [
        "# plot histogram for all features\n",
        "%matplotlib inline\n",
        "import matplotlib.pyplot as plt\n",
        "dengue_features_train.hist(bins=50, figsize=(20,15))\n",
        "\n",
        "plt.show()"
      ],
      "execution_count": 0,
      "outputs": []
    },
    {
      "cell_type": "code",
      "metadata": {
        "id": "zdGk8JRSIBMe",
        "colab_type": "code",
        "colab": {}
      },
      "source": [
        "# check missing for each column\n",
        "# training data\n",
        "dengue_features_train.isnull().sum(axis=0)"
      ],
      "execution_count": 0,
      "outputs": []
    },
    {
      "cell_type": "code",
      "metadata": {
        "id": "L-peLs9Vf--V",
        "colab_type": "code",
        "colab": {}
      },
      "source": [
        "# test data\n",
        "dengue_features_test.isnull().sum(axis=0)"
      ],
      "execution_count": 0,
      "outputs": []
    },
    {
      "cell_type": "code",
      "metadata": {
        "id": "ZbBBc_xFCKmi",
        "colab_type": "code",
        "outputId": "e50556df-631d-4a07-c9f8-b55f45f0dced",
        "colab": {
          "base_uri": "https://localhost:8080/",
          "height": 68
        }
      },
      "source": [
        "tr_feature = dengue_features_train.copy()\n",
        "tr_label = dengue_labels_train.copy()\n",
        "te_feature = dengue_features_test.copy()\n",
        "\n",
        "print(tr_feature.shape)\n",
        "print(tr_label.shape)\n",
        "print(te_feature.shape)"
      ],
      "execution_count": 0,
      "outputs": [
        {
          "output_type": "stream",
          "text": [
            "(1456, 24)\n",
            "(1456, 4)\n",
            "(416, 24)\n"
          ],
          "name": "stdout"
        }
      ]
    },
    {
      "cell_type": "markdown",
      "metadata": {
        "id": "Fujprc-3FypU",
        "colab_type": "text"
      },
      "source": [
        "## Delect Row with Week of Year = 53"
      ]
    },
    {
      "cell_type": "code",
      "metadata": {
        "id": "DQfcsjcKF_hM",
        "colab_type": "code",
        "outputId": "141b0b74-4d9a-4a9e-96c7-903921429cb1",
        "colab": {
          "base_uri": "https://localhost:8080/",
          "height": 379
        }
      },
      "source": [
        "tr_feature[tr_feature.isnull().sum(axis=1)>15]"
      ],
      "execution_count": 0,
      "outputs": [
        {
          "output_type": "execute_result",
          "data": {
            "text/html": [
              "<div>\n",
              "<style scoped>\n",
              "    .dataframe tbody tr th:only-of-type {\n",
              "        vertical-align: middle;\n",
              "    }\n",
              "\n",
              "    .dataframe tbody tr th {\n",
              "        vertical-align: top;\n",
              "    }\n",
              "\n",
              "    .dataframe thead th {\n",
              "        text-align: right;\n",
              "    }\n",
              "</style>\n",
              "<table border=\"1\" class=\"dataframe\">\n",
              "  <thead>\n",
              "    <tr style=\"text-align: right;\">\n",
              "      <th></th>\n",
              "      <th>city</th>\n",
              "      <th>year</th>\n",
              "      <th>weekofyear</th>\n",
              "      <th>week_start_date</th>\n",
              "      <th>ndvi_ne</th>\n",
              "      <th>ndvi_nw</th>\n",
              "      <th>ndvi_se</th>\n",
              "      <th>ndvi_sw</th>\n",
              "      <th>precipitation_amt_mm</th>\n",
              "      <th>reanalysis_air_temp_k</th>\n",
              "      <th>reanalysis_avg_temp_k</th>\n",
              "      <th>reanalysis_dew_point_temp_k</th>\n",
              "      <th>reanalysis_max_air_temp_k</th>\n",
              "      <th>reanalysis_min_air_temp_k</th>\n",
              "      <th>reanalysis_precip_amt_kg_per_m2</th>\n",
              "      <th>reanalysis_relative_humidity_percent</th>\n",
              "      <th>reanalysis_sat_precip_amt_mm</th>\n",
              "      <th>reanalysis_specific_humidity_g_per_kg</th>\n",
              "      <th>reanalysis_tdtr_k</th>\n",
              "      <th>station_avg_temp_c</th>\n",
              "      <th>station_diur_temp_rng_c</th>\n",
              "      <th>station_max_temp_c</th>\n",
              "      <th>station_min_temp_c</th>\n",
              "      <th>station_precip_mm</th>\n",
              "    </tr>\n",
              "  </thead>\n",
              "  <tbody>\n",
              "    <tr>\n",
              "      <th>87</th>\n",
              "      <td>sj</td>\n",
              "      <td>1992</td>\n",
              "      <td>1</td>\n",
              "      <td>1992-01-01</td>\n",
              "      <td>0.125100</td>\n",
              "      <td>0.157867</td>\n",
              "      <td>0.185283</td>\n",
              "      <td>0.181367</td>\n",
              "      <td>NaN</td>\n",
              "      <td>NaN</td>\n",
              "      <td>NaN</td>\n",
              "      <td>NaN</td>\n",
              "      <td>NaN</td>\n",
              "      <td>NaN</td>\n",
              "      <td>NaN</td>\n",
              "      <td>NaN</td>\n",
              "      <td>NaN</td>\n",
              "      <td>NaN</td>\n",
              "      <td>NaN</td>\n",
              "      <td>NaN</td>\n",
              "      <td>NaN</td>\n",
              "      <td>NaN</td>\n",
              "      <td>NaN</td>\n",
              "      <td>NaN</td>\n",
              "    </tr>\n",
              "    <tr>\n",
              "      <th>139</th>\n",
              "      <td>sj</td>\n",
              "      <td>1993</td>\n",
              "      <td>53</td>\n",
              "      <td>1993-01-01</td>\n",
              "      <td>NaN</td>\n",
              "      <td>NaN</td>\n",
              "      <td>NaN</td>\n",
              "      <td>NaN</td>\n",
              "      <td>NaN</td>\n",
              "      <td>NaN</td>\n",
              "      <td>NaN</td>\n",
              "      <td>NaN</td>\n",
              "      <td>NaN</td>\n",
              "      <td>NaN</td>\n",
              "      <td>NaN</td>\n",
              "      <td>NaN</td>\n",
              "      <td>NaN</td>\n",
              "      <td>NaN</td>\n",
              "      <td>NaN</td>\n",
              "      <td>NaN</td>\n",
              "      <td>NaN</td>\n",
              "      <td>NaN</td>\n",
              "      <td>NaN</td>\n",
              "      <td>NaN</td>\n",
              "    </tr>\n",
              "    <tr>\n",
              "      <th>399</th>\n",
              "      <td>sj</td>\n",
              "      <td>1998</td>\n",
              "      <td>1</td>\n",
              "      <td>1998-01-01</td>\n",
              "      <td>0.045500</td>\n",
              "      <td>0.047800</td>\n",
              "      <td>0.123986</td>\n",
              "      <td>0.083443</td>\n",
              "      <td>NaN</td>\n",
              "      <td>NaN</td>\n",
              "      <td>NaN</td>\n",
              "      <td>NaN</td>\n",
              "      <td>NaN</td>\n",
              "      <td>NaN</td>\n",
              "      <td>NaN</td>\n",
              "      <td>NaN</td>\n",
              "      <td>NaN</td>\n",
              "      <td>NaN</td>\n",
              "      <td>NaN</td>\n",
              "      <td>NaN</td>\n",
              "      <td>NaN</td>\n",
              "      <td>NaN</td>\n",
              "      <td>NaN</td>\n",
              "      <td>NaN</td>\n",
              "    </tr>\n",
              "    <tr>\n",
              "      <th>451</th>\n",
              "      <td>sj</td>\n",
              "      <td>1999</td>\n",
              "      <td>53</td>\n",
              "      <td>1999-01-01</td>\n",
              "      <td>NaN</td>\n",
              "      <td>NaN</td>\n",
              "      <td>NaN</td>\n",
              "      <td>NaN</td>\n",
              "      <td>NaN</td>\n",
              "      <td>NaN</td>\n",
              "      <td>NaN</td>\n",
              "      <td>NaN</td>\n",
              "      <td>NaN</td>\n",
              "      <td>NaN</td>\n",
              "      <td>NaN</td>\n",
              "      <td>NaN</td>\n",
              "      <td>NaN</td>\n",
              "      <td>NaN</td>\n",
              "      <td>NaN</td>\n",
              "      <td>NaN</td>\n",
              "      <td>NaN</td>\n",
              "      <td>NaN</td>\n",
              "      <td>NaN</td>\n",
              "      <td>NaN</td>\n",
              "    </tr>\n",
              "    <tr>\n",
              "      <th>711</th>\n",
              "      <td>sj</td>\n",
              "      <td>2004</td>\n",
              "      <td>1</td>\n",
              "      <td>2004-01-01</td>\n",
              "      <td>-0.268300</td>\n",
              "      <td>-0.123700</td>\n",
              "      <td>0.223757</td>\n",
              "      <td>0.176543</td>\n",
              "      <td>NaN</td>\n",
              "      <td>NaN</td>\n",
              "      <td>NaN</td>\n",
              "      <td>NaN</td>\n",
              "      <td>NaN</td>\n",
              "      <td>NaN</td>\n",
              "      <td>NaN</td>\n",
              "      <td>NaN</td>\n",
              "      <td>NaN</td>\n",
              "      <td>NaN</td>\n",
              "      <td>NaN</td>\n",
              "      <td>NaN</td>\n",
              "      <td>NaN</td>\n",
              "      <td>NaN</td>\n",
              "      <td>NaN</td>\n",
              "      <td>NaN</td>\n",
              "    </tr>\n",
              "    <tr>\n",
              "      <th>763</th>\n",
              "      <td>sj</td>\n",
              "      <td>2005</td>\n",
              "      <td>53</td>\n",
              "      <td>2005-01-01</td>\n",
              "      <td>NaN</td>\n",
              "      <td>NaN</td>\n",
              "      <td>NaN</td>\n",
              "      <td>NaN</td>\n",
              "      <td>NaN</td>\n",
              "      <td>NaN</td>\n",
              "      <td>NaN</td>\n",
              "      <td>NaN</td>\n",
              "      <td>NaN</td>\n",
              "      <td>NaN</td>\n",
              "      <td>NaN</td>\n",
              "      <td>NaN</td>\n",
              "      <td>NaN</td>\n",
              "      <td>NaN</td>\n",
              "      <td>NaN</td>\n",
              "      <td>NaN</td>\n",
              "      <td>NaN</td>\n",
              "      <td>NaN</td>\n",
              "      <td>NaN</td>\n",
              "      <td>NaN</td>\n",
              "    </tr>\n",
              "    <tr>\n",
              "      <th>1118</th>\n",
              "      <td>iq</td>\n",
              "      <td>2004</td>\n",
              "      <td>1</td>\n",
              "      <td>2004-01-01</td>\n",
              "      <td>0.202571</td>\n",
              "      <td>0.198967</td>\n",
              "      <td>0.244557</td>\n",
              "      <td>0.187957</td>\n",
              "      <td>NaN</td>\n",
              "      <td>NaN</td>\n",
              "      <td>NaN</td>\n",
              "      <td>NaN</td>\n",
              "      <td>NaN</td>\n",
              "      <td>NaN</td>\n",
              "      <td>NaN</td>\n",
              "      <td>NaN</td>\n",
              "      <td>NaN</td>\n",
              "      <td>NaN</td>\n",
              "      <td>NaN</td>\n",
              "      <td>NaN</td>\n",
              "      <td>NaN</td>\n",
              "      <td>NaN</td>\n",
              "      <td>NaN</td>\n",
              "      <td>NaN</td>\n",
              "    </tr>\n",
              "    <tr>\n",
              "      <th>1170</th>\n",
              "      <td>iq</td>\n",
              "      <td>2005</td>\n",
              "      <td>53</td>\n",
              "      <td>2005-01-01</td>\n",
              "      <td>NaN</td>\n",
              "      <td>NaN</td>\n",
              "      <td>NaN</td>\n",
              "      <td>NaN</td>\n",
              "      <td>NaN</td>\n",
              "      <td>NaN</td>\n",
              "      <td>NaN</td>\n",
              "      <td>NaN</td>\n",
              "      <td>NaN</td>\n",
              "      <td>NaN</td>\n",
              "      <td>NaN</td>\n",
              "      <td>NaN</td>\n",
              "      <td>NaN</td>\n",
              "      <td>NaN</td>\n",
              "      <td>NaN</td>\n",
              "      <td>NaN</td>\n",
              "      <td>NaN</td>\n",
              "      <td>NaN</td>\n",
              "      <td>NaN</td>\n",
              "      <td>NaN</td>\n",
              "    </tr>\n",
              "    <tr>\n",
              "      <th>1378</th>\n",
              "      <td>iq</td>\n",
              "      <td>2009</td>\n",
              "      <td>1</td>\n",
              "      <td>2009-01-01</td>\n",
              "      <td>0.151286</td>\n",
              "      <td>0.161686</td>\n",
              "      <td>0.153271</td>\n",
              "      <td>0.119443</td>\n",
              "      <td>NaN</td>\n",
              "      <td>NaN</td>\n",
              "      <td>NaN</td>\n",
              "      <td>NaN</td>\n",
              "      <td>NaN</td>\n",
              "      <td>NaN</td>\n",
              "      <td>NaN</td>\n",
              "      <td>NaN</td>\n",
              "      <td>NaN</td>\n",
              "      <td>NaN</td>\n",
              "      <td>NaN</td>\n",
              "      <td>NaN</td>\n",
              "      <td>NaN</td>\n",
              "      <td>NaN</td>\n",
              "      <td>NaN</td>\n",
              "      <td>NaN</td>\n",
              "    </tr>\n",
              "    <tr>\n",
              "      <th>1430</th>\n",
              "      <td>iq</td>\n",
              "      <td>2010</td>\n",
              "      <td>53</td>\n",
              "      <td>2010-01-01</td>\n",
              "      <td>NaN</td>\n",
              "      <td>NaN</td>\n",
              "      <td>NaN</td>\n",
              "      <td>NaN</td>\n",
              "      <td>NaN</td>\n",
              "      <td>NaN</td>\n",
              "      <td>NaN</td>\n",
              "      <td>NaN</td>\n",
              "      <td>NaN</td>\n",
              "      <td>NaN</td>\n",
              "      <td>NaN</td>\n",
              "      <td>NaN</td>\n",
              "      <td>NaN</td>\n",
              "      <td>NaN</td>\n",
              "      <td>NaN</td>\n",
              "      <td>NaN</td>\n",
              "      <td>NaN</td>\n",
              "      <td>NaN</td>\n",
              "      <td>NaN</td>\n",
              "      <td>NaN</td>\n",
              "    </tr>\n",
              "  </tbody>\n",
              "</table>\n",
              "</div>"
            ],
            "text/plain": [
              "     city  year  ...  station_min_temp_c station_precip_mm\n",
              "87     sj  1992  ...                 NaN               NaN\n",
              "139    sj  1993  ...                 NaN               NaN\n",
              "399    sj  1998  ...                 NaN               NaN\n",
              "451    sj  1999  ...                 NaN               NaN\n",
              "711    sj  2004  ...                 NaN               NaN\n",
              "763    sj  2005  ...                 NaN               NaN\n",
              "1118   iq  2004  ...                 NaN               NaN\n",
              "1170   iq  2005  ...                 NaN               NaN\n",
              "1378   iq  2009  ...                 NaN               NaN\n",
              "1430   iq  2010  ...                 NaN               NaN\n",
              "\n",
              "[10 rows x 24 columns]"
            ]
          },
          "metadata": {
            "tags": []
          },
          "execution_count": 64
        }
      ]
    },
    {
      "cell_type": "code",
      "metadata": {
        "id": "fEXbJcoXF4w6",
        "colab_type": "code",
        "outputId": "bdd5d1a3-6506-4a4d-8419-6d78c6280a0a",
        "colab": {
          "base_uri": "https://localhost:8080/",
          "height": 34
        }
      },
      "source": [
        "indexNames = tr_feature[tr_feature['weekofyear'] == 53].index\n",
        "indexNames"
      ],
      "execution_count": 0,
      "outputs": [
        {
          "output_type": "execute_result",
          "data": {
            "text/plain": [
              "Int64Index([139, 451, 763, 1170, 1430], dtype='int64')"
            ]
          },
          "metadata": {
            "tags": []
          },
          "execution_count": 65
        }
      ]
    },
    {
      "cell_type": "code",
      "metadata": {
        "id": "wAhSQ-RsF420",
        "colab_type": "code",
        "outputId": "f032bdb8-f888-4c32-9d9f-5d166120b28a",
        "colab": {
          "base_uri": "https://localhost:8080/",
          "height": 51
        }
      },
      "source": [
        "# delete these row indexes from dengue_features_train\n",
        "X_train1 = tr_feature.drop(indexNames)\n",
        "y_train1 = tr_label.drop(indexNames)\n",
        "\n",
        "print(X_train1.shape)\n",
        "print(y_train1.shape)"
      ],
      "execution_count": 0,
      "outputs": [
        {
          "output_type": "stream",
          "text": [
            "(1455, 24)\n",
            "(1455, 4)\n"
          ],
          "name": "stdout"
        }
      ]
    },
    {
      "cell_type": "markdown",
      "metadata": {
        "id": "NB5DPTPjbnRm",
        "colab_type": "text"
      },
      "source": [
        "## Feature Engineering on Trainning Data"
      ]
    },
    {
      "cell_type": "code",
      "metadata": {
        "id": "wBxvB4b88Ow0",
        "colab_type": "code",
        "colab": {}
      },
      "source": [
        "# create lag variables\n",
        "df = X_train1.groupby([\"city\"]).shift(1)\n",
        "df = df.drop(['year', 'week_start_date'], axis=1)\n",
        "\n",
        "# rename lag variables\n",
        "df.columns = df.columns + \"_lag1\""
      ],
      "execution_count": 0,
      "outputs": []
    },
    {
      "cell_type": "code",
      "metadata": {
        "id": "MaDJ_EJmZH4N",
        "colab_type": "code",
        "colab": {}
      },
      "source": [
        "df.head()"
      ],
      "execution_count": 0,
      "outputs": []
    },
    {
      "cell_type": "code",
      "metadata": {
        "id": "KX3fX1v4aWD3",
        "colab_type": "code",
        "outputId": "d8cecd9e-30f8-4abd-d7be-84acec046732",
        "colab": {
          "base_uri": "https://localhost:8080/",
          "height": 34
        }
      },
      "source": [
        "X_train1 = pd.concat([X_train1, df], axis=1)\n",
        "\n",
        "print(X_train1.shape)"
      ],
      "execution_count": 0,
      "outputs": [
        {
          "output_type": "stream",
          "text": [
            "(1455, 45)\n"
          ],
          "name": "stdout"
        }
      ]
    },
    {
      "cell_type": "code",
      "metadata": {
        "id": "UWh6--LYbSCq",
        "colab_type": "code",
        "outputId": "cd20db09-2319-4d87-fe06-1bda68cc6d6d",
        "colab": {
          "base_uri": "https://localhost:8080/",
          "height": 224
        }
      },
      "source": [
        "X_train1.head()"
      ],
      "execution_count": 0,
      "outputs": [
        {
          "output_type": "execute_result",
          "data": {
            "text/html": [
              "<div>\n",
              "<style scoped>\n",
              "    .dataframe tbody tr th:only-of-type {\n",
              "        vertical-align: middle;\n",
              "    }\n",
              "\n",
              "    .dataframe tbody tr th {\n",
              "        vertical-align: top;\n",
              "    }\n",
              "\n",
              "    .dataframe thead th {\n",
              "        text-align: right;\n",
              "    }\n",
              "</style>\n",
              "<table border=\"1\" class=\"dataframe\">\n",
              "  <thead>\n",
              "    <tr style=\"text-align: right;\">\n",
              "      <th></th>\n",
              "      <th>city</th>\n",
              "      <th>year</th>\n",
              "      <th>weekofyear</th>\n",
              "      <th>week_start_date</th>\n",
              "      <th>ndvi_ne</th>\n",
              "      <th>ndvi_nw</th>\n",
              "      <th>ndvi_se</th>\n",
              "      <th>ndvi_sw</th>\n",
              "      <th>precipitation_amt_mm</th>\n",
              "      <th>reanalysis_air_temp_k</th>\n",
              "      <th>reanalysis_avg_temp_k</th>\n",
              "      <th>reanalysis_dew_point_temp_k</th>\n",
              "      <th>reanalysis_max_air_temp_k</th>\n",
              "      <th>reanalysis_min_air_temp_k</th>\n",
              "      <th>reanalysis_precip_amt_kg_per_m2</th>\n",
              "      <th>reanalysis_relative_humidity_percent</th>\n",
              "      <th>reanalysis_sat_precip_amt_mm</th>\n",
              "      <th>reanalysis_specific_humidity_g_per_kg</th>\n",
              "      <th>reanalysis_tdtr_k</th>\n",
              "      <th>station_avg_temp_c</th>\n",
              "      <th>station_diur_temp_rng_c</th>\n",
              "      <th>station_max_temp_c</th>\n",
              "      <th>station_min_temp_c</th>\n",
              "      <th>station_precip_mm</th>\n",
              "      <th>weekofyear_lag1</th>\n",
              "      <th>ndvi_ne_lag1</th>\n",
              "      <th>ndvi_nw_lag1</th>\n",
              "      <th>ndvi_se_lag1</th>\n",
              "      <th>ndvi_sw_lag1</th>\n",
              "      <th>precipitation_amt_mm_lag1</th>\n",
              "      <th>reanalysis_air_temp_k_lag1</th>\n",
              "      <th>reanalysis_avg_temp_k_lag1</th>\n",
              "      <th>reanalysis_dew_point_temp_k_lag1</th>\n",
              "      <th>reanalysis_max_air_temp_k_lag1</th>\n",
              "      <th>reanalysis_min_air_temp_k_lag1</th>\n",
              "      <th>reanalysis_precip_amt_kg_per_m2_lag1</th>\n",
              "      <th>reanalysis_relative_humidity_percent_lag1</th>\n",
              "      <th>reanalysis_sat_precip_amt_mm_lag1</th>\n",
              "      <th>reanalysis_specific_humidity_g_per_kg_lag1</th>\n",
              "      <th>reanalysis_tdtr_k_lag1</th>\n",
              "      <th>station_avg_temp_c_lag1</th>\n",
              "      <th>station_diur_temp_rng_c_lag1</th>\n",
              "      <th>station_max_temp_c_lag1</th>\n",
              "      <th>station_min_temp_c_lag1</th>\n",
              "      <th>station_precip_mm_lag1</th>\n",
              "    </tr>\n",
              "  </thead>\n",
              "  <tbody>\n",
              "    <tr>\n",
              "      <th>0</th>\n",
              "      <td>sj</td>\n",
              "      <td>1990</td>\n",
              "      <td>18</td>\n",
              "      <td>1990-04-30</td>\n",
              "      <td>0.122600</td>\n",
              "      <td>0.103725</td>\n",
              "      <td>0.198483</td>\n",
              "      <td>0.177617</td>\n",
              "      <td>12.42</td>\n",
              "      <td>297.572857</td>\n",
              "      <td>297.742857</td>\n",
              "      <td>292.414286</td>\n",
              "      <td>299.8</td>\n",
              "      <td>295.9</td>\n",
              "      <td>32.00</td>\n",
              "      <td>73.365714</td>\n",
              "      <td>12.42</td>\n",
              "      <td>14.012857</td>\n",
              "      <td>2.628571</td>\n",
              "      <td>25.442857</td>\n",
              "      <td>6.900000</td>\n",
              "      <td>29.4</td>\n",
              "      <td>20.0</td>\n",
              "      <td>16.0</td>\n",
              "      <td>NaN</td>\n",
              "      <td>NaN</td>\n",
              "      <td>NaN</td>\n",
              "      <td>NaN</td>\n",
              "      <td>NaN</td>\n",
              "      <td>NaN</td>\n",
              "      <td>NaN</td>\n",
              "      <td>NaN</td>\n",
              "      <td>NaN</td>\n",
              "      <td>NaN</td>\n",
              "      <td>NaN</td>\n",
              "      <td>NaN</td>\n",
              "      <td>NaN</td>\n",
              "      <td>NaN</td>\n",
              "      <td>NaN</td>\n",
              "      <td>NaN</td>\n",
              "      <td>NaN</td>\n",
              "      <td>NaN</td>\n",
              "      <td>NaN</td>\n",
              "      <td>NaN</td>\n",
              "      <td>NaN</td>\n",
              "    </tr>\n",
              "    <tr>\n",
              "      <th>1</th>\n",
              "      <td>sj</td>\n",
              "      <td>1990</td>\n",
              "      <td>19</td>\n",
              "      <td>1990-05-07</td>\n",
              "      <td>0.169900</td>\n",
              "      <td>0.142175</td>\n",
              "      <td>0.162357</td>\n",
              "      <td>0.155486</td>\n",
              "      <td>22.82</td>\n",
              "      <td>298.211429</td>\n",
              "      <td>298.442857</td>\n",
              "      <td>293.951429</td>\n",
              "      <td>300.9</td>\n",
              "      <td>296.4</td>\n",
              "      <td>17.94</td>\n",
              "      <td>77.368571</td>\n",
              "      <td>22.82</td>\n",
              "      <td>15.372857</td>\n",
              "      <td>2.371429</td>\n",
              "      <td>26.714286</td>\n",
              "      <td>6.371429</td>\n",
              "      <td>31.7</td>\n",
              "      <td>22.2</td>\n",
              "      <td>8.6</td>\n",
              "      <td>18.0</td>\n",
              "      <td>0.122600</td>\n",
              "      <td>0.103725</td>\n",
              "      <td>0.198483</td>\n",
              "      <td>0.177617</td>\n",
              "      <td>12.42</td>\n",
              "      <td>297.572857</td>\n",
              "      <td>297.742857</td>\n",
              "      <td>292.414286</td>\n",
              "      <td>299.8</td>\n",
              "      <td>295.9</td>\n",
              "      <td>32.00</td>\n",
              "      <td>73.365714</td>\n",
              "      <td>12.42</td>\n",
              "      <td>14.012857</td>\n",
              "      <td>2.628571</td>\n",
              "      <td>25.442857</td>\n",
              "      <td>6.900000</td>\n",
              "      <td>29.4</td>\n",
              "      <td>20.0</td>\n",
              "      <td>16.0</td>\n",
              "    </tr>\n",
              "    <tr>\n",
              "      <th>2</th>\n",
              "      <td>sj</td>\n",
              "      <td>1990</td>\n",
              "      <td>20</td>\n",
              "      <td>1990-05-14</td>\n",
              "      <td>0.032250</td>\n",
              "      <td>0.172967</td>\n",
              "      <td>0.157200</td>\n",
              "      <td>0.170843</td>\n",
              "      <td>34.54</td>\n",
              "      <td>298.781429</td>\n",
              "      <td>298.878571</td>\n",
              "      <td>295.434286</td>\n",
              "      <td>300.5</td>\n",
              "      <td>297.3</td>\n",
              "      <td>26.10</td>\n",
              "      <td>82.052857</td>\n",
              "      <td>34.54</td>\n",
              "      <td>16.848571</td>\n",
              "      <td>2.300000</td>\n",
              "      <td>26.714286</td>\n",
              "      <td>6.485714</td>\n",
              "      <td>32.2</td>\n",
              "      <td>22.8</td>\n",
              "      <td>41.4</td>\n",
              "      <td>19.0</td>\n",
              "      <td>0.169900</td>\n",
              "      <td>0.142175</td>\n",
              "      <td>0.162357</td>\n",
              "      <td>0.155486</td>\n",
              "      <td>22.82</td>\n",
              "      <td>298.211429</td>\n",
              "      <td>298.442857</td>\n",
              "      <td>293.951429</td>\n",
              "      <td>300.9</td>\n",
              "      <td>296.4</td>\n",
              "      <td>17.94</td>\n",
              "      <td>77.368571</td>\n",
              "      <td>22.82</td>\n",
              "      <td>15.372857</td>\n",
              "      <td>2.371429</td>\n",
              "      <td>26.714286</td>\n",
              "      <td>6.371429</td>\n",
              "      <td>31.7</td>\n",
              "      <td>22.2</td>\n",
              "      <td>8.6</td>\n",
              "    </tr>\n",
              "    <tr>\n",
              "      <th>3</th>\n",
              "      <td>sj</td>\n",
              "      <td>1990</td>\n",
              "      <td>21</td>\n",
              "      <td>1990-05-21</td>\n",
              "      <td>0.128633</td>\n",
              "      <td>0.245067</td>\n",
              "      <td>0.227557</td>\n",
              "      <td>0.235886</td>\n",
              "      <td>15.36</td>\n",
              "      <td>298.987143</td>\n",
              "      <td>299.228571</td>\n",
              "      <td>295.310000</td>\n",
              "      <td>301.4</td>\n",
              "      <td>297.0</td>\n",
              "      <td>13.90</td>\n",
              "      <td>80.337143</td>\n",
              "      <td>15.36</td>\n",
              "      <td>16.672857</td>\n",
              "      <td>2.428571</td>\n",
              "      <td>27.471429</td>\n",
              "      <td>6.771429</td>\n",
              "      <td>33.3</td>\n",
              "      <td>23.3</td>\n",
              "      <td>4.0</td>\n",
              "      <td>20.0</td>\n",
              "      <td>0.032250</td>\n",
              "      <td>0.172967</td>\n",
              "      <td>0.157200</td>\n",
              "      <td>0.170843</td>\n",
              "      <td>34.54</td>\n",
              "      <td>298.781429</td>\n",
              "      <td>298.878571</td>\n",
              "      <td>295.434286</td>\n",
              "      <td>300.5</td>\n",
              "      <td>297.3</td>\n",
              "      <td>26.10</td>\n",
              "      <td>82.052857</td>\n",
              "      <td>34.54</td>\n",
              "      <td>16.848571</td>\n",
              "      <td>2.300000</td>\n",
              "      <td>26.714286</td>\n",
              "      <td>6.485714</td>\n",
              "      <td>32.2</td>\n",
              "      <td>22.8</td>\n",
              "      <td>41.4</td>\n",
              "    </tr>\n",
              "    <tr>\n",
              "      <th>4</th>\n",
              "      <td>sj</td>\n",
              "      <td>1990</td>\n",
              "      <td>22</td>\n",
              "      <td>1990-05-28</td>\n",
              "      <td>0.196200</td>\n",
              "      <td>0.262200</td>\n",
              "      <td>0.251200</td>\n",
              "      <td>0.247340</td>\n",
              "      <td>7.52</td>\n",
              "      <td>299.518571</td>\n",
              "      <td>299.664286</td>\n",
              "      <td>295.821429</td>\n",
              "      <td>301.9</td>\n",
              "      <td>297.5</td>\n",
              "      <td>12.20</td>\n",
              "      <td>80.460000</td>\n",
              "      <td>7.52</td>\n",
              "      <td>17.210000</td>\n",
              "      <td>3.014286</td>\n",
              "      <td>28.942857</td>\n",
              "      <td>9.371429</td>\n",
              "      <td>35.0</td>\n",
              "      <td>23.9</td>\n",
              "      <td>5.8</td>\n",
              "      <td>21.0</td>\n",
              "      <td>0.128633</td>\n",
              "      <td>0.245067</td>\n",
              "      <td>0.227557</td>\n",
              "      <td>0.235886</td>\n",
              "      <td>15.36</td>\n",
              "      <td>298.987143</td>\n",
              "      <td>299.228571</td>\n",
              "      <td>295.310000</td>\n",
              "      <td>301.4</td>\n",
              "      <td>297.0</td>\n",
              "      <td>13.90</td>\n",
              "      <td>80.337143</td>\n",
              "      <td>15.36</td>\n",
              "      <td>16.672857</td>\n",
              "      <td>2.428571</td>\n",
              "      <td>27.471429</td>\n",
              "      <td>6.771429</td>\n",
              "      <td>33.3</td>\n",
              "      <td>23.3</td>\n",
              "      <td>4.0</td>\n",
              "    </tr>\n",
              "  </tbody>\n",
              "</table>\n",
              "</div>"
            ],
            "text/plain": [
              "  city  year  ...  station_min_temp_c_lag1 station_precip_mm_lag1\n",
              "0   sj  1990  ...                      NaN                    NaN\n",
              "1   sj  1990  ...                     20.0                   16.0\n",
              "2   sj  1990  ...                     22.2                    8.6\n",
              "3   sj  1990  ...                     22.8                   41.4\n",
              "4   sj  1990  ...                     23.3                    4.0\n",
              "\n",
              "[5 rows x 45 columns]"
            ]
          },
          "metadata": {
            "tags": []
          },
          "execution_count": 69
        }
      ]
    },
    {
      "cell_type": "code",
      "metadata": {
        "id": "yfgjCDJrf_oZ",
        "colab_type": "code",
        "outputId": "97344c8d-15c3-4941-ac61-97c9e065115a",
        "colab": {
          "base_uri": "https://localhost:8080/",
          "height": 34
        }
      },
      "source": [
        "# create city dummy\n",
        "X_train1['city_sj'] = [1 if x == 'sj' else 0 for x in X_train1['city']]\n",
        "\n",
        "print(X_train1.shape)"
      ],
      "execution_count": 0,
      "outputs": [
        {
          "output_type": "stream",
          "text": [
            "(1455, 46)\n"
          ],
          "name": "stdout"
        }
      ]
    },
    {
      "cell_type": "code",
      "metadata": {
        "id": "mzesmRf8H1Lg",
        "colab_type": "code",
        "outputId": "7c4cf154-8cb7-4c41-8992-04b333bb4211",
        "colab": {
          "base_uri": "https://localhost:8080/",
          "height": 224
        }
      },
      "source": [
        "X_train1.head()"
      ],
      "execution_count": 0,
      "outputs": [
        {
          "output_type": "execute_result",
          "data": {
            "text/html": [
              "<div>\n",
              "<style scoped>\n",
              "    .dataframe tbody tr th:only-of-type {\n",
              "        vertical-align: middle;\n",
              "    }\n",
              "\n",
              "    .dataframe tbody tr th {\n",
              "        vertical-align: top;\n",
              "    }\n",
              "\n",
              "    .dataframe thead th {\n",
              "        text-align: right;\n",
              "    }\n",
              "</style>\n",
              "<table border=\"1\" class=\"dataframe\">\n",
              "  <thead>\n",
              "    <tr style=\"text-align: right;\">\n",
              "      <th></th>\n",
              "      <th>city</th>\n",
              "      <th>year</th>\n",
              "      <th>weekofyear</th>\n",
              "      <th>week_start_date</th>\n",
              "      <th>ndvi_ne</th>\n",
              "      <th>ndvi_nw</th>\n",
              "      <th>ndvi_se</th>\n",
              "      <th>ndvi_sw</th>\n",
              "      <th>precipitation_amt_mm</th>\n",
              "      <th>reanalysis_air_temp_k</th>\n",
              "      <th>reanalysis_avg_temp_k</th>\n",
              "      <th>reanalysis_dew_point_temp_k</th>\n",
              "      <th>reanalysis_max_air_temp_k</th>\n",
              "      <th>reanalysis_min_air_temp_k</th>\n",
              "      <th>reanalysis_precip_amt_kg_per_m2</th>\n",
              "      <th>reanalysis_relative_humidity_percent</th>\n",
              "      <th>reanalysis_sat_precip_amt_mm</th>\n",
              "      <th>reanalysis_specific_humidity_g_per_kg</th>\n",
              "      <th>reanalysis_tdtr_k</th>\n",
              "      <th>station_avg_temp_c</th>\n",
              "      <th>station_diur_temp_rng_c</th>\n",
              "      <th>station_max_temp_c</th>\n",
              "      <th>station_min_temp_c</th>\n",
              "      <th>station_precip_mm</th>\n",
              "      <th>weekofyear_lag1</th>\n",
              "      <th>ndvi_ne_lag1</th>\n",
              "      <th>ndvi_nw_lag1</th>\n",
              "      <th>ndvi_se_lag1</th>\n",
              "      <th>ndvi_sw_lag1</th>\n",
              "      <th>precipitation_amt_mm_lag1</th>\n",
              "      <th>reanalysis_air_temp_k_lag1</th>\n",
              "      <th>reanalysis_avg_temp_k_lag1</th>\n",
              "      <th>reanalysis_dew_point_temp_k_lag1</th>\n",
              "      <th>reanalysis_max_air_temp_k_lag1</th>\n",
              "      <th>reanalysis_min_air_temp_k_lag1</th>\n",
              "      <th>reanalysis_precip_amt_kg_per_m2_lag1</th>\n",
              "      <th>reanalysis_relative_humidity_percent_lag1</th>\n",
              "      <th>reanalysis_sat_precip_amt_mm_lag1</th>\n",
              "      <th>reanalysis_specific_humidity_g_per_kg_lag1</th>\n",
              "      <th>reanalysis_tdtr_k_lag1</th>\n",
              "      <th>station_avg_temp_c_lag1</th>\n",
              "      <th>station_diur_temp_rng_c_lag1</th>\n",
              "      <th>station_max_temp_c_lag1</th>\n",
              "      <th>station_min_temp_c_lag1</th>\n",
              "      <th>station_precip_mm_lag1</th>\n",
              "      <th>city_sj</th>\n",
              "    </tr>\n",
              "  </thead>\n",
              "  <tbody>\n",
              "    <tr>\n",
              "      <th>0</th>\n",
              "      <td>sj</td>\n",
              "      <td>1990</td>\n",
              "      <td>18</td>\n",
              "      <td>1990-04-30</td>\n",
              "      <td>0.122600</td>\n",
              "      <td>0.103725</td>\n",
              "      <td>0.198483</td>\n",
              "      <td>0.177617</td>\n",
              "      <td>12.42</td>\n",
              "      <td>297.572857</td>\n",
              "      <td>297.742857</td>\n",
              "      <td>292.414286</td>\n",
              "      <td>299.8</td>\n",
              "      <td>295.9</td>\n",
              "      <td>32.00</td>\n",
              "      <td>73.365714</td>\n",
              "      <td>12.42</td>\n",
              "      <td>14.012857</td>\n",
              "      <td>2.628571</td>\n",
              "      <td>25.442857</td>\n",
              "      <td>6.900000</td>\n",
              "      <td>29.4</td>\n",
              "      <td>20.0</td>\n",
              "      <td>16.0</td>\n",
              "      <td>NaN</td>\n",
              "      <td>NaN</td>\n",
              "      <td>NaN</td>\n",
              "      <td>NaN</td>\n",
              "      <td>NaN</td>\n",
              "      <td>NaN</td>\n",
              "      <td>NaN</td>\n",
              "      <td>NaN</td>\n",
              "      <td>NaN</td>\n",
              "      <td>NaN</td>\n",
              "      <td>NaN</td>\n",
              "      <td>NaN</td>\n",
              "      <td>NaN</td>\n",
              "      <td>NaN</td>\n",
              "      <td>NaN</td>\n",
              "      <td>NaN</td>\n",
              "      <td>NaN</td>\n",
              "      <td>NaN</td>\n",
              "      <td>NaN</td>\n",
              "      <td>NaN</td>\n",
              "      <td>NaN</td>\n",
              "      <td>1</td>\n",
              "    </tr>\n",
              "    <tr>\n",
              "      <th>1</th>\n",
              "      <td>sj</td>\n",
              "      <td>1990</td>\n",
              "      <td>19</td>\n",
              "      <td>1990-05-07</td>\n",
              "      <td>0.169900</td>\n",
              "      <td>0.142175</td>\n",
              "      <td>0.162357</td>\n",
              "      <td>0.155486</td>\n",
              "      <td>22.82</td>\n",
              "      <td>298.211429</td>\n",
              "      <td>298.442857</td>\n",
              "      <td>293.951429</td>\n",
              "      <td>300.9</td>\n",
              "      <td>296.4</td>\n",
              "      <td>17.94</td>\n",
              "      <td>77.368571</td>\n",
              "      <td>22.82</td>\n",
              "      <td>15.372857</td>\n",
              "      <td>2.371429</td>\n",
              "      <td>26.714286</td>\n",
              "      <td>6.371429</td>\n",
              "      <td>31.7</td>\n",
              "      <td>22.2</td>\n",
              "      <td>8.6</td>\n",
              "      <td>18.0</td>\n",
              "      <td>0.122600</td>\n",
              "      <td>0.103725</td>\n",
              "      <td>0.198483</td>\n",
              "      <td>0.177617</td>\n",
              "      <td>12.42</td>\n",
              "      <td>297.572857</td>\n",
              "      <td>297.742857</td>\n",
              "      <td>292.414286</td>\n",
              "      <td>299.8</td>\n",
              "      <td>295.9</td>\n",
              "      <td>32.00</td>\n",
              "      <td>73.365714</td>\n",
              "      <td>12.42</td>\n",
              "      <td>14.012857</td>\n",
              "      <td>2.628571</td>\n",
              "      <td>25.442857</td>\n",
              "      <td>6.900000</td>\n",
              "      <td>29.4</td>\n",
              "      <td>20.0</td>\n",
              "      <td>16.0</td>\n",
              "      <td>1</td>\n",
              "    </tr>\n",
              "    <tr>\n",
              "      <th>2</th>\n",
              "      <td>sj</td>\n",
              "      <td>1990</td>\n",
              "      <td>20</td>\n",
              "      <td>1990-05-14</td>\n",
              "      <td>0.032250</td>\n",
              "      <td>0.172967</td>\n",
              "      <td>0.157200</td>\n",
              "      <td>0.170843</td>\n",
              "      <td>34.54</td>\n",
              "      <td>298.781429</td>\n",
              "      <td>298.878571</td>\n",
              "      <td>295.434286</td>\n",
              "      <td>300.5</td>\n",
              "      <td>297.3</td>\n",
              "      <td>26.10</td>\n",
              "      <td>82.052857</td>\n",
              "      <td>34.54</td>\n",
              "      <td>16.848571</td>\n",
              "      <td>2.300000</td>\n",
              "      <td>26.714286</td>\n",
              "      <td>6.485714</td>\n",
              "      <td>32.2</td>\n",
              "      <td>22.8</td>\n",
              "      <td>41.4</td>\n",
              "      <td>19.0</td>\n",
              "      <td>0.169900</td>\n",
              "      <td>0.142175</td>\n",
              "      <td>0.162357</td>\n",
              "      <td>0.155486</td>\n",
              "      <td>22.82</td>\n",
              "      <td>298.211429</td>\n",
              "      <td>298.442857</td>\n",
              "      <td>293.951429</td>\n",
              "      <td>300.9</td>\n",
              "      <td>296.4</td>\n",
              "      <td>17.94</td>\n",
              "      <td>77.368571</td>\n",
              "      <td>22.82</td>\n",
              "      <td>15.372857</td>\n",
              "      <td>2.371429</td>\n",
              "      <td>26.714286</td>\n",
              "      <td>6.371429</td>\n",
              "      <td>31.7</td>\n",
              "      <td>22.2</td>\n",
              "      <td>8.6</td>\n",
              "      <td>1</td>\n",
              "    </tr>\n",
              "    <tr>\n",
              "      <th>3</th>\n",
              "      <td>sj</td>\n",
              "      <td>1990</td>\n",
              "      <td>21</td>\n",
              "      <td>1990-05-21</td>\n",
              "      <td>0.128633</td>\n",
              "      <td>0.245067</td>\n",
              "      <td>0.227557</td>\n",
              "      <td>0.235886</td>\n",
              "      <td>15.36</td>\n",
              "      <td>298.987143</td>\n",
              "      <td>299.228571</td>\n",
              "      <td>295.310000</td>\n",
              "      <td>301.4</td>\n",
              "      <td>297.0</td>\n",
              "      <td>13.90</td>\n",
              "      <td>80.337143</td>\n",
              "      <td>15.36</td>\n",
              "      <td>16.672857</td>\n",
              "      <td>2.428571</td>\n",
              "      <td>27.471429</td>\n",
              "      <td>6.771429</td>\n",
              "      <td>33.3</td>\n",
              "      <td>23.3</td>\n",
              "      <td>4.0</td>\n",
              "      <td>20.0</td>\n",
              "      <td>0.032250</td>\n",
              "      <td>0.172967</td>\n",
              "      <td>0.157200</td>\n",
              "      <td>0.170843</td>\n",
              "      <td>34.54</td>\n",
              "      <td>298.781429</td>\n",
              "      <td>298.878571</td>\n",
              "      <td>295.434286</td>\n",
              "      <td>300.5</td>\n",
              "      <td>297.3</td>\n",
              "      <td>26.10</td>\n",
              "      <td>82.052857</td>\n",
              "      <td>34.54</td>\n",
              "      <td>16.848571</td>\n",
              "      <td>2.300000</td>\n",
              "      <td>26.714286</td>\n",
              "      <td>6.485714</td>\n",
              "      <td>32.2</td>\n",
              "      <td>22.8</td>\n",
              "      <td>41.4</td>\n",
              "      <td>1</td>\n",
              "    </tr>\n",
              "    <tr>\n",
              "      <th>4</th>\n",
              "      <td>sj</td>\n",
              "      <td>1990</td>\n",
              "      <td>22</td>\n",
              "      <td>1990-05-28</td>\n",
              "      <td>0.196200</td>\n",
              "      <td>0.262200</td>\n",
              "      <td>0.251200</td>\n",
              "      <td>0.247340</td>\n",
              "      <td>7.52</td>\n",
              "      <td>299.518571</td>\n",
              "      <td>299.664286</td>\n",
              "      <td>295.821429</td>\n",
              "      <td>301.9</td>\n",
              "      <td>297.5</td>\n",
              "      <td>12.20</td>\n",
              "      <td>80.460000</td>\n",
              "      <td>7.52</td>\n",
              "      <td>17.210000</td>\n",
              "      <td>3.014286</td>\n",
              "      <td>28.942857</td>\n",
              "      <td>9.371429</td>\n",
              "      <td>35.0</td>\n",
              "      <td>23.9</td>\n",
              "      <td>5.8</td>\n",
              "      <td>21.0</td>\n",
              "      <td>0.128633</td>\n",
              "      <td>0.245067</td>\n",
              "      <td>0.227557</td>\n",
              "      <td>0.235886</td>\n",
              "      <td>15.36</td>\n",
              "      <td>298.987143</td>\n",
              "      <td>299.228571</td>\n",
              "      <td>295.310000</td>\n",
              "      <td>301.4</td>\n",
              "      <td>297.0</td>\n",
              "      <td>13.90</td>\n",
              "      <td>80.337143</td>\n",
              "      <td>15.36</td>\n",
              "      <td>16.672857</td>\n",
              "      <td>2.428571</td>\n",
              "      <td>27.471429</td>\n",
              "      <td>6.771429</td>\n",
              "      <td>33.3</td>\n",
              "      <td>23.3</td>\n",
              "      <td>4.0</td>\n",
              "      <td>1</td>\n",
              "    </tr>\n",
              "  </tbody>\n",
              "</table>\n",
              "</div>"
            ],
            "text/plain": [
              "  city  year  ...  station_precip_mm_lag1 city_sj\n",
              "0   sj  1990  ...                     NaN       1\n",
              "1   sj  1990  ...                    16.0       1\n",
              "2   sj  1990  ...                     8.6       1\n",
              "3   sj  1990  ...                    41.4       1\n",
              "4   sj  1990  ...                     4.0       1\n",
              "\n",
              "[5 rows x 46 columns]"
            ]
          },
          "metadata": {
            "tags": []
          },
          "execution_count": 71
        }
      ]
    },
    {
      "cell_type": "code",
      "metadata": {
        "id": "mw92HWZEMZjK",
        "colab_type": "code",
        "outputId": "7dc38436-3f13-4b21-b791-d38a790094a3",
        "colab": {
          "base_uri": "https://localhost:8080/",
          "height": 34
        }
      },
      "source": [
        "X_train1 = X_train1.drop(['city', 'year', 'week_start_date'], axis=1)\n",
        "\n",
        "print(X_train1.shape)"
      ],
      "execution_count": 0,
      "outputs": [
        {
          "output_type": "stream",
          "text": [
            "(1455, 43)\n"
          ],
          "name": "stdout"
        }
      ]
    },
    {
      "cell_type": "code",
      "metadata": {
        "id": "3_WF1XNsMeuY",
        "colab_type": "code",
        "outputId": "3b24ee15-3381-45f8-bd08-dff98d526cfb",
        "colab": {
          "base_uri": "https://localhost:8080/",
          "height": 224
        }
      },
      "source": [
        "X_train1.head()"
      ],
      "execution_count": 0,
      "outputs": [
        {
          "output_type": "execute_result",
          "data": {
            "text/html": [
              "<div>\n",
              "<style scoped>\n",
              "    .dataframe tbody tr th:only-of-type {\n",
              "        vertical-align: middle;\n",
              "    }\n",
              "\n",
              "    .dataframe tbody tr th {\n",
              "        vertical-align: top;\n",
              "    }\n",
              "\n",
              "    .dataframe thead th {\n",
              "        text-align: right;\n",
              "    }\n",
              "</style>\n",
              "<table border=\"1\" class=\"dataframe\">\n",
              "  <thead>\n",
              "    <tr style=\"text-align: right;\">\n",
              "      <th></th>\n",
              "      <th>weekofyear</th>\n",
              "      <th>ndvi_ne</th>\n",
              "      <th>ndvi_nw</th>\n",
              "      <th>ndvi_se</th>\n",
              "      <th>ndvi_sw</th>\n",
              "      <th>precipitation_amt_mm</th>\n",
              "      <th>reanalysis_air_temp_k</th>\n",
              "      <th>reanalysis_avg_temp_k</th>\n",
              "      <th>reanalysis_dew_point_temp_k</th>\n",
              "      <th>reanalysis_max_air_temp_k</th>\n",
              "      <th>reanalysis_min_air_temp_k</th>\n",
              "      <th>reanalysis_precip_amt_kg_per_m2</th>\n",
              "      <th>reanalysis_relative_humidity_percent</th>\n",
              "      <th>reanalysis_sat_precip_amt_mm</th>\n",
              "      <th>reanalysis_specific_humidity_g_per_kg</th>\n",
              "      <th>reanalysis_tdtr_k</th>\n",
              "      <th>station_avg_temp_c</th>\n",
              "      <th>station_diur_temp_rng_c</th>\n",
              "      <th>station_max_temp_c</th>\n",
              "      <th>station_min_temp_c</th>\n",
              "      <th>station_precip_mm</th>\n",
              "      <th>weekofyear_lag1</th>\n",
              "      <th>ndvi_ne_lag1</th>\n",
              "      <th>ndvi_nw_lag1</th>\n",
              "      <th>ndvi_se_lag1</th>\n",
              "      <th>ndvi_sw_lag1</th>\n",
              "      <th>precipitation_amt_mm_lag1</th>\n",
              "      <th>reanalysis_air_temp_k_lag1</th>\n",
              "      <th>reanalysis_avg_temp_k_lag1</th>\n",
              "      <th>reanalysis_dew_point_temp_k_lag1</th>\n",
              "      <th>reanalysis_max_air_temp_k_lag1</th>\n",
              "      <th>reanalysis_min_air_temp_k_lag1</th>\n",
              "      <th>reanalysis_precip_amt_kg_per_m2_lag1</th>\n",
              "      <th>reanalysis_relative_humidity_percent_lag1</th>\n",
              "      <th>reanalysis_sat_precip_amt_mm_lag1</th>\n",
              "      <th>reanalysis_specific_humidity_g_per_kg_lag1</th>\n",
              "      <th>reanalysis_tdtr_k_lag1</th>\n",
              "      <th>station_avg_temp_c_lag1</th>\n",
              "      <th>station_diur_temp_rng_c_lag1</th>\n",
              "      <th>station_max_temp_c_lag1</th>\n",
              "      <th>station_min_temp_c_lag1</th>\n",
              "      <th>station_precip_mm_lag1</th>\n",
              "      <th>city_sj</th>\n",
              "    </tr>\n",
              "  </thead>\n",
              "  <tbody>\n",
              "    <tr>\n",
              "      <th>0</th>\n",
              "      <td>18</td>\n",
              "      <td>0.122600</td>\n",
              "      <td>0.103725</td>\n",
              "      <td>0.198483</td>\n",
              "      <td>0.177617</td>\n",
              "      <td>12.42</td>\n",
              "      <td>297.572857</td>\n",
              "      <td>297.742857</td>\n",
              "      <td>292.414286</td>\n",
              "      <td>299.8</td>\n",
              "      <td>295.9</td>\n",
              "      <td>32.00</td>\n",
              "      <td>73.365714</td>\n",
              "      <td>12.42</td>\n",
              "      <td>14.012857</td>\n",
              "      <td>2.628571</td>\n",
              "      <td>25.442857</td>\n",
              "      <td>6.900000</td>\n",
              "      <td>29.4</td>\n",
              "      <td>20.0</td>\n",
              "      <td>16.0</td>\n",
              "      <td>NaN</td>\n",
              "      <td>NaN</td>\n",
              "      <td>NaN</td>\n",
              "      <td>NaN</td>\n",
              "      <td>NaN</td>\n",
              "      <td>NaN</td>\n",
              "      <td>NaN</td>\n",
              "      <td>NaN</td>\n",
              "      <td>NaN</td>\n",
              "      <td>NaN</td>\n",
              "      <td>NaN</td>\n",
              "      <td>NaN</td>\n",
              "      <td>NaN</td>\n",
              "      <td>NaN</td>\n",
              "      <td>NaN</td>\n",
              "      <td>NaN</td>\n",
              "      <td>NaN</td>\n",
              "      <td>NaN</td>\n",
              "      <td>NaN</td>\n",
              "      <td>NaN</td>\n",
              "      <td>NaN</td>\n",
              "      <td>1</td>\n",
              "    </tr>\n",
              "    <tr>\n",
              "      <th>1</th>\n",
              "      <td>19</td>\n",
              "      <td>0.169900</td>\n",
              "      <td>0.142175</td>\n",
              "      <td>0.162357</td>\n",
              "      <td>0.155486</td>\n",
              "      <td>22.82</td>\n",
              "      <td>298.211429</td>\n",
              "      <td>298.442857</td>\n",
              "      <td>293.951429</td>\n",
              "      <td>300.9</td>\n",
              "      <td>296.4</td>\n",
              "      <td>17.94</td>\n",
              "      <td>77.368571</td>\n",
              "      <td>22.82</td>\n",
              "      <td>15.372857</td>\n",
              "      <td>2.371429</td>\n",
              "      <td>26.714286</td>\n",
              "      <td>6.371429</td>\n",
              "      <td>31.7</td>\n",
              "      <td>22.2</td>\n",
              "      <td>8.6</td>\n",
              "      <td>18.0</td>\n",
              "      <td>0.122600</td>\n",
              "      <td>0.103725</td>\n",
              "      <td>0.198483</td>\n",
              "      <td>0.177617</td>\n",
              "      <td>12.42</td>\n",
              "      <td>297.572857</td>\n",
              "      <td>297.742857</td>\n",
              "      <td>292.414286</td>\n",
              "      <td>299.8</td>\n",
              "      <td>295.9</td>\n",
              "      <td>32.00</td>\n",
              "      <td>73.365714</td>\n",
              "      <td>12.42</td>\n",
              "      <td>14.012857</td>\n",
              "      <td>2.628571</td>\n",
              "      <td>25.442857</td>\n",
              "      <td>6.900000</td>\n",
              "      <td>29.4</td>\n",
              "      <td>20.0</td>\n",
              "      <td>16.0</td>\n",
              "      <td>1</td>\n",
              "    </tr>\n",
              "    <tr>\n",
              "      <th>2</th>\n",
              "      <td>20</td>\n",
              "      <td>0.032250</td>\n",
              "      <td>0.172967</td>\n",
              "      <td>0.157200</td>\n",
              "      <td>0.170843</td>\n",
              "      <td>34.54</td>\n",
              "      <td>298.781429</td>\n",
              "      <td>298.878571</td>\n",
              "      <td>295.434286</td>\n",
              "      <td>300.5</td>\n",
              "      <td>297.3</td>\n",
              "      <td>26.10</td>\n",
              "      <td>82.052857</td>\n",
              "      <td>34.54</td>\n",
              "      <td>16.848571</td>\n",
              "      <td>2.300000</td>\n",
              "      <td>26.714286</td>\n",
              "      <td>6.485714</td>\n",
              "      <td>32.2</td>\n",
              "      <td>22.8</td>\n",
              "      <td>41.4</td>\n",
              "      <td>19.0</td>\n",
              "      <td>0.169900</td>\n",
              "      <td>0.142175</td>\n",
              "      <td>0.162357</td>\n",
              "      <td>0.155486</td>\n",
              "      <td>22.82</td>\n",
              "      <td>298.211429</td>\n",
              "      <td>298.442857</td>\n",
              "      <td>293.951429</td>\n",
              "      <td>300.9</td>\n",
              "      <td>296.4</td>\n",
              "      <td>17.94</td>\n",
              "      <td>77.368571</td>\n",
              "      <td>22.82</td>\n",
              "      <td>15.372857</td>\n",
              "      <td>2.371429</td>\n",
              "      <td>26.714286</td>\n",
              "      <td>6.371429</td>\n",
              "      <td>31.7</td>\n",
              "      <td>22.2</td>\n",
              "      <td>8.6</td>\n",
              "      <td>1</td>\n",
              "    </tr>\n",
              "    <tr>\n",
              "      <th>3</th>\n",
              "      <td>21</td>\n",
              "      <td>0.128633</td>\n",
              "      <td>0.245067</td>\n",
              "      <td>0.227557</td>\n",
              "      <td>0.235886</td>\n",
              "      <td>15.36</td>\n",
              "      <td>298.987143</td>\n",
              "      <td>299.228571</td>\n",
              "      <td>295.310000</td>\n",
              "      <td>301.4</td>\n",
              "      <td>297.0</td>\n",
              "      <td>13.90</td>\n",
              "      <td>80.337143</td>\n",
              "      <td>15.36</td>\n",
              "      <td>16.672857</td>\n",
              "      <td>2.428571</td>\n",
              "      <td>27.471429</td>\n",
              "      <td>6.771429</td>\n",
              "      <td>33.3</td>\n",
              "      <td>23.3</td>\n",
              "      <td>4.0</td>\n",
              "      <td>20.0</td>\n",
              "      <td>0.032250</td>\n",
              "      <td>0.172967</td>\n",
              "      <td>0.157200</td>\n",
              "      <td>0.170843</td>\n",
              "      <td>34.54</td>\n",
              "      <td>298.781429</td>\n",
              "      <td>298.878571</td>\n",
              "      <td>295.434286</td>\n",
              "      <td>300.5</td>\n",
              "      <td>297.3</td>\n",
              "      <td>26.10</td>\n",
              "      <td>82.052857</td>\n",
              "      <td>34.54</td>\n",
              "      <td>16.848571</td>\n",
              "      <td>2.300000</td>\n",
              "      <td>26.714286</td>\n",
              "      <td>6.485714</td>\n",
              "      <td>32.2</td>\n",
              "      <td>22.8</td>\n",
              "      <td>41.4</td>\n",
              "      <td>1</td>\n",
              "    </tr>\n",
              "    <tr>\n",
              "      <th>4</th>\n",
              "      <td>22</td>\n",
              "      <td>0.196200</td>\n",
              "      <td>0.262200</td>\n",
              "      <td>0.251200</td>\n",
              "      <td>0.247340</td>\n",
              "      <td>7.52</td>\n",
              "      <td>299.518571</td>\n",
              "      <td>299.664286</td>\n",
              "      <td>295.821429</td>\n",
              "      <td>301.9</td>\n",
              "      <td>297.5</td>\n",
              "      <td>12.20</td>\n",
              "      <td>80.460000</td>\n",
              "      <td>7.52</td>\n",
              "      <td>17.210000</td>\n",
              "      <td>3.014286</td>\n",
              "      <td>28.942857</td>\n",
              "      <td>9.371429</td>\n",
              "      <td>35.0</td>\n",
              "      <td>23.9</td>\n",
              "      <td>5.8</td>\n",
              "      <td>21.0</td>\n",
              "      <td>0.128633</td>\n",
              "      <td>0.245067</td>\n",
              "      <td>0.227557</td>\n",
              "      <td>0.235886</td>\n",
              "      <td>15.36</td>\n",
              "      <td>298.987143</td>\n",
              "      <td>299.228571</td>\n",
              "      <td>295.310000</td>\n",
              "      <td>301.4</td>\n",
              "      <td>297.0</td>\n",
              "      <td>13.90</td>\n",
              "      <td>80.337143</td>\n",
              "      <td>15.36</td>\n",
              "      <td>16.672857</td>\n",
              "      <td>2.428571</td>\n",
              "      <td>27.471429</td>\n",
              "      <td>6.771429</td>\n",
              "      <td>33.3</td>\n",
              "      <td>23.3</td>\n",
              "      <td>4.0</td>\n",
              "      <td>1</td>\n",
              "    </tr>\n",
              "  </tbody>\n",
              "</table>\n",
              "</div>"
            ],
            "text/plain": [
              "   weekofyear   ndvi_ne  ...  station_precip_mm_lag1  city_sj\n",
              "0          18  0.122600  ...                     NaN        1\n",
              "1          19  0.169900  ...                    16.0        1\n",
              "2          20  0.032250  ...                     8.6        1\n",
              "3          21  0.128633  ...                    41.4        1\n",
              "4          22  0.196200  ...                     4.0        1\n",
              "\n",
              "[5 rows x 43 columns]"
            ]
          },
          "metadata": {
            "tags": []
          },
          "execution_count": 73
        }
      ]
    },
    {
      "cell_type": "markdown",
      "metadata": {
        "id": "jYc8P6sicA63",
        "colab_type": "text"
      },
      "source": [
        "## Feature Engineering on Test Data"
      ]
    },
    {
      "cell_type": "code",
      "metadata": {
        "id": "d9Jr9XjGcYN3",
        "colab_type": "code",
        "colab": {}
      },
      "source": [
        "# before create the lag variable in test data\n",
        "# we need to take the last record from each city from the training data\n",
        "# and attach them into the test data\n",
        "sj = tr_feature[(tr_feature['city'] == 'sj') & (tr_feature['year'] == 2008) & (tr_feature['weekofyear'] == 17)]\n",
        "iq = tr_feature[(tr_feature['city'] == 'iq') & (tr_feature['year'] == 2010) & (tr_feature['weekofyear'] == 25)]"
      ],
      "execution_count": 0,
      "outputs": []
    },
    {
      "cell_type": "code",
      "metadata": {
        "id": "dzCQroYCMAq5",
        "colab_type": "code",
        "outputId": "18c9b080-00cb-4f9d-cb5b-73f60dbc85d7",
        "colab": {
          "base_uri": "https://localhost:8080/",
          "height": 100
        }
      },
      "source": [
        "sj"
      ],
      "execution_count": 0,
      "outputs": [
        {
          "output_type": "execute_result",
          "data": {
            "text/html": [
              "<div>\n",
              "<style scoped>\n",
              "    .dataframe tbody tr th:only-of-type {\n",
              "        vertical-align: middle;\n",
              "    }\n",
              "\n",
              "    .dataframe tbody tr th {\n",
              "        vertical-align: top;\n",
              "    }\n",
              "\n",
              "    .dataframe thead th {\n",
              "        text-align: right;\n",
              "    }\n",
              "</style>\n",
              "<table border=\"1\" class=\"dataframe\">\n",
              "  <thead>\n",
              "    <tr style=\"text-align: right;\">\n",
              "      <th></th>\n",
              "      <th>city</th>\n",
              "      <th>year</th>\n",
              "      <th>weekofyear</th>\n",
              "      <th>week_start_date</th>\n",
              "      <th>ndvi_ne</th>\n",
              "      <th>ndvi_nw</th>\n",
              "      <th>ndvi_se</th>\n",
              "      <th>ndvi_sw</th>\n",
              "      <th>precipitation_amt_mm</th>\n",
              "      <th>reanalysis_air_temp_k</th>\n",
              "      <th>reanalysis_avg_temp_k</th>\n",
              "      <th>reanalysis_dew_point_temp_k</th>\n",
              "      <th>reanalysis_max_air_temp_k</th>\n",
              "      <th>reanalysis_min_air_temp_k</th>\n",
              "      <th>reanalysis_precip_amt_kg_per_m2</th>\n",
              "      <th>reanalysis_relative_humidity_percent</th>\n",
              "      <th>reanalysis_sat_precip_amt_mm</th>\n",
              "      <th>reanalysis_specific_humidity_g_per_kg</th>\n",
              "      <th>reanalysis_tdtr_k</th>\n",
              "      <th>station_avg_temp_c</th>\n",
              "      <th>station_diur_temp_rng_c</th>\n",
              "      <th>station_max_temp_c</th>\n",
              "      <th>station_min_temp_c</th>\n",
              "      <th>station_precip_mm</th>\n",
              "    </tr>\n",
              "  </thead>\n",
              "  <tbody>\n",
              "    <tr>\n",
              "      <th>935</th>\n",
              "      <td>sj</td>\n",
              "      <td>2008</td>\n",
              "      <td>17</td>\n",
              "      <td>2008-04-22</td>\n",
              "      <td>-0.037</td>\n",
              "      <td>-0.010367</td>\n",
              "      <td>0.077314</td>\n",
              "      <td>0.090586</td>\n",
              "      <td>0.0</td>\n",
              "      <td>298.672857</td>\n",
              "      <td>298.692857</td>\n",
              "      <td>294.28</td>\n",
              "      <td>300.9</td>\n",
              "      <td>295.9</td>\n",
              "      <td>2.17</td>\n",
              "      <td>76.96</td>\n",
              "      <td>0.0</td>\n",
              "      <td>15.671429</td>\n",
              "      <td>3.957143</td>\n",
              "      <td>27.042857</td>\n",
              "      <td>7.514286</td>\n",
              "      <td>31.7</td>\n",
              "      <td>23.3</td>\n",
              "      <td>0.3</td>\n",
              "    </tr>\n",
              "  </tbody>\n",
              "</table>\n",
              "</div>"
            ],
            "text/plain": [
              "    city  year  ...  station_min_temp_c station_precip_mm\n",
              "935   sj  2008  ...                23.3               0.3\n",
              "\n",
              "[1 rows x 24 columns]"
            ]
          },
          "metadata": {
            "tags": []
          },
          "execution_count": 107
        }
      ]
    },
    {
      "cell_type": "code",
      "metadata": {
        "id": "faIRsj9FcYUP",
        "colab_type": "code",
        "colab": {}
      },
      "source": [
        "sj_test = te_feature[te_feature['city'] == 'sj']\n",
        "iq_test = te_feature[te_feature['city'] == 'iq']"
      ],
      "execution_count": 0,
      "outputs": []
    },
    {
      "cell_type": "code",
      "metadata": {
        "id": "lGQbsPyJLPqw",
        "colab_type": "code",
        "outputId": "eee6a8a7-99b3-44ef-e983-6e726b1c3e71",
        "colab": {
          "base_uri": "https://localhost:8080/",
          "height": 224
        }
      },
      "source": [
        "iq_test.head()"
      ],
      "execution_count": 0,
      "outputs": [
        {
          "output_type": "execute_result",
          "data": {
            "text/html": [
              "<div>\n",
              "<style scoped>\n",
              "    .dataframe tbody tr th:only-of-type {\n",
              "        vertical-align: middle;\n",
              "    }\n",
              "\n",
              "    .dataframe tbody tr th {\n",
              "        vertical-align: top;\n",
              "    }\n",
              "\n",
              "    .dataframe thead th {\n",
              "        text-align: right;\n",
              "    }\n",
              "</style>\n",
              "<table border=\"1\" class=\"dataframe\">\n",
              "  <thead>\n",
              "    <tr style=\"text-align: right;\">\n",
              "      <th></th>\n",
              "      <th>city</th>\n",
              "      <th>year</th>\n",
              "      <th>weekofyear</th>\n",
              "      <th>week_start_date</th>\n",
              "      <th>ndvi_ne</th>\n",
              "      <th>ndvi_nw</th>\n",
              "      <th>ndvi_se</th>\n",
              "      <th>ndvi_sw</th>\n",
              "      <th>precipitation_amt_mm</th>\n",
              "      <th>reanalysis_air_temp_k</th>\n",
              "      <th>reanalysis_avg_temp_k</th>\n",
              "      <th>reanalysis_dew_point_temp_k</th>\n",
              "      <th>reanalysis_max_air_temp_k</th>\n",
              "      <th>reanalysis_min_air_temp_k</th>\n",
              "      <th>reanalysis_precip_amt_kg_per_m2</th>\n",
              "      <th>reanalysis_relative_humidity_percent</th>\n",
              "      <th>reanalysis_sat_precip_amt_mm</th>\n",
              "      <th>reanalysis_specific_humidity_g_per_kg</th>\n",
              "      <th>reanalysis_tdtr_k</th>\n",
              "      <th>station_avg_temp_c</th>\n",
              "      <th>station_diur_temp_rng_c</th>\n",
              "      <th>station_max_temp_c</th>\n",
              "      <th>station_min_temp_c</th>\n",
              "      <th>station_precip_mm</th>\n",
              "    </tr>\n",
              "  </thead>\n",
              "  <tbody>\n",
              "    <tr>\n",
              "      <th>260</th>\n",
              "      <td>iq</td>\n",
              "      <td>2010</td>\n",
              "      <td>26</td>\n",
              "      <td>2010-07-02</td>\n",
              "      <td>0.183783</td>\n",
              "      <td>0.142500</td>\n",
              "      <td>0.225129</td>\n",
              "      <td>0.150214</td>\n",
              "      <td>82.29</td>\n",
              "      <td>297.648571</td>\n",
              "      <td>299.214286</td>\n",
              "      <td>296.118571</td>\n",
              "      <td>307.9</td>\n",
              "      <td>293.7</td>\n",
              "      <td>34.11</td>\n",
              "      <td>92.581429</td>\n",
              "      <td>82.29</td>\n",
              "      <td>17.654286</td>\n",
              "      <td>9.428571</td>\n",
              "      <td>27.440</td>\n",
              "      <td>10.760</td>\n",
              "      <td>33.8</td>\n",
              "      <td>21.5</td>\n",
              "      <td>11.2</td>\n",
              "    </tr>\n",
              "    <tr>\n",
              "      <th>261</th>\n",
              "      <td>iq</td>\n",
              "      <td>2010</td>\n",
              "      <td>27</td>\n",
              "      <td>2010-07-09</td>\n",
              "      <td>0.291657</td>\n",
              "      <td>0.272267</td>\n",
              "      <td>0.330700</td>\n",
              "      <td>0.320914</td>\n",
              "      <td>25.30</td>\n",
              "      <td>298.224286</td>\n",
              "      <td>299.464286</td>\n",
              "      <td>294.831429</td>\n",
              "      <td>307.7</td>\n",
              "      <td>292.2</td>\n",
              "      <td>9.10</td>\n",
              "      <td>83.885714</td>\n",
              "      <td>25.30</td>\n",
              "      <td>16.320000</td>\n",
              "      <td>10.157143</td>\n",
              "      <td>27.025</td>\n",
              "      <td>9.625</td>\n",
              "      <td>33.0</td>\n",
              "      <td>21.2</td>\n",
              "      <td>8.9</td>\n",
              "    </tr>\n",
              "    <tr>\n",
              "      <th>262</th>\n",
              "      <td>iq</td>\n",
              "      <td>2010</td>\n",
              "      <td>28</td>\n",
              "      <td>2010-07-16</td>\n",
              "      <td>0.208543</td>\n",
              "      <td>0.366457</td>\n",
              "      <td>0.212629</td>\n",
              "      <td>0.255514</td>\n",
              "      <td>62.14</td>\n",
              "      <td>297.955714</td>\n",
              "      <td>298.964286</td>\n",
              "      <td>296.417143</td>\n",
              "      <td>306.4</td>\n",
              "      <td>292.5</td>\n",
              "      <td>61.09</td>\n",
              "      <td>92.057143</td>\n",
              "      <td>62.14</td>\n",
              "      <td>18.030000</td>\n",
              "      <td>9.557143</td>\n",
              "      <td>26.950</td>\n",
              "      <td>10.350</td>\n",
              "      <td>33.4</td>\n",
              "      <td>21.6</td>\n",
              "      <td>22.6</td>\n",
              "    </tr>\n",
              "    <tr>\n",
              "      <th>263</th>\n",
              "      <td>iq</td>\n",
              "      <td>2010</td>\n",
              "      <td>29</td>\n",
              "      <td>2010-07-23</td>\n",
              "      <td>0.089286</td>\n",
              "      <td>0.063214</td>\n",
              "      <td>0.122057</td>\n",
              "      <td>0.081957</td>\n",
              "      <td>47.80</td>\n",
              "      <td>295.715714</td>\n",
              "      <td>296.642857</td>\n",
              "      <td>293.638571</td>\n",
              "      <td>306.4</td>\n",
              "      <td>289.3</td>\n",
              "      <td>19.60</td>\n",
              "      <td>88.970000</td>\n",
              "      <td>47.80</td>\n",
              "      <td>15.394286</td>\n",
              "      <td>7.828571</td>\n",
              "      <td>26.900</td>\n",
              "      <td>9.700</td>\n",
              "      <td>33.3</td>\n",
              "      <td>14.2</td>\n",
              "      <td>4.8</td>\n",
              "    </tr>\n",
              "    <tr>\n",
              "      <th>264</th>\n",
              "      <td>iq</td>\n",
              "      <td>2010</td>\n",
              "      <td>30</td>\n",
              "      <td>2010-07-30</td>\n",
              "      <td>0.306100</td>\n",
              "      <td>0.327683</td>\n",
              "      <td>0.250086</td>\n",
              "      <td>0.267914</td>\n",
              "      <td>56.30</td>\n",
              "      <td>298.502857</td>\n",
              "      <td>300.000000</td>\n",
              "      <td>293.892857</td>\n",
              "      <td>308.1</td>\n",
              "      <td>290.5</td>\n",
              "      <td>18.93</td>\n",
              "      <td>78.610000</td>\n",
              "      <td>56.30</td>\n",
              "      <td>15.468571</td>\n",
              "      <td>11.771429</td>\n",
              "      <td>27.050</td>\n",
              "      <td>11.850</td>\n",
              "      <td>33.5</td>\n",
              "      <td>16.9</td>\n",
              "      <td>3.0</td>\n",
              "    </tr>\n",
              "  </tbody>\n",
              "</table>\n",
              "</div>"
            ],
            "text/plain": [
              "    city  year  ...  station_min_temp_c station_precip_mm\n",
              "260   iq  2010  ...                21.5              11.2\n",
              "261   iq  2010  ...                21.2               8.9\n",
              "262   iq  2010  ...                21.6              22.6\n",
              "263   iq  2010  ...                14.2               4.8\n",
              "264   iq  2010  ...                16.9               3.0\n",
              "\n",
              "[5 rows x 24 columns]"
            ]
          },
          "metadata": {
            "tags": []
          },
          "execution_count": 110
        }
      ]
    },
    {
      "cell_type": "code",
      "metadata": {
        "id": "yV9k8e2ZcYcZ",
        "colab_type": "code",
        "outputId": "53df1cde-0afe-41cc-ffd2-a56422bb9d40",
        "colab": {
          "base_uri": "https://localhost:8080/",
          "height": 34
        }
      },
      "source": [
        "X_test1 = pd.concat([sj, sj_test, iq, iq_test], axis=0)\n",
        "print(X_test1.shape)"
      ],
      "execution_count": 0,
      "outputs": [
        {
          "output_type": "stream",
          "text": [
            "(418, 24)\n"
          ],
          "name": "stdout"
        }
      ]
    },
    {
      "cell_type": "code",
      "metadata": {
        "colab_type": "code",
        "id": "JavQmByyMreW",
        "colab": {}
      },
      "source": [
        "# create lag variables\n",
        "df = X_test1.groupby([\"city\"]).shift(1)\n",
        "df = df.drop(['year', 'week_start_date'], axis=1)\n",
        "\n",
        "# rename lag variables\n",
        "df.columns = df.columns + \"_lag1\""
      ],
      "execution_count": 0,
      "outputs": []
    },
    {
      "cell_type": "code",
      "metadata": {
        "id": "nRDkKgewMz-k",
        "colab_type": "code",
        "colab": {}
      },
      "source": [
        "df.head()"
      ],
      "execution_count": 0,
      "outputs": []
    },
    {
      "cell_type": "code",
      "metadata": {
        "colab_type": "code",
        "outputId": "d579bf00-1e2d-4b1b-ab36-1b8d38f35e5c",
        "id": "mkQPcyFqMre7",
        "colab": {
          "base_uri": "https://localhost:8080/",
          "height": 34
        }
      },
      "source": [
        "X_test1 = pd.concat([X_test1, df], axis=1)\n",
        "\n",
        "print(X_test1.shape)"
      ],
      "execution_count": 0,
      "outputs": [
        {
          "output_type": "stream",
          "text": [
            "(418, 45)\n"
          ],
          "name": "stdout"
        }
      ]
    },
    {
      "cell_type": "code",
      "metadata": {
        "id": "kjmiBBIiMnqd",
        "colab_type": "code",
        "outputId": "0e0fbbc9-e2d8-4b2d-c840-d7c3e90961dc",
        "colab": {
          "base_uri": "https://localhost:8080/",
          "height": 224
        }
      },
      "source": [
        "X_test1.head()"
      ],
      "execution_count": 0,
      "outputs": [
        {
          "output_type": "execute_result",
          "data": {
            "text/html": [
              "<div>\n",
              "<style scoped>\n",
              "    .dataframe tbody tr th:only-of-type {\n",
              "        vertical-align: middle;\n",
              "    }\n",
              "\n",
              "    .dataframe tbody tr th {\n",
              "        vertical-align: top;\n",
              "    }\n",
              "\n",
              "    .dataframe thead th {\n",
              "        text-align: right;\n",
              "    }\n",
              "</style>\n",
              "<table border=\"1\" class=\"dataframe\">\n",
              "  <thead>\n",
              "    <tr style=\"text-align: right;\">\n",
              "      <th></th>\n",
              "      <th>city</th>\n",
              "      <th>year</th>\n",
              "      <th>weekofyear</th>\n",
              "      <th>week_start_date</th>\n",
              "      <th>ndvi_ne</th>\n",
              "      <th>ndvi_nw</th>\n",
              "      <th>ndvi_se</th>\n",
              "      <th>ndvi_sw</th>\n",
              "      <th>precipitation_amt_mm</th>\n",
              "      <th>reanalysis_air_temp_k</th>\n",
              "      <th>reanalysis_avg_temp_k</th>\n",
              "      <th>reanalysis_dew_point_temp_k</th>\n",
              "      <th>reanalysis_max_air_temp_k</th>\n",
              "      <th>reanalysis_min_air_temp_k</th>\n",
              "      <th>reanalysis_precip_amt_kg_per_m2</th>\n",
              "      <th>reanalysis_relative_humidity_percent</th>\n",
              "      <th>reanalysis_sat_precip_amt_mm</th>\n",
              "      <th>reanalysis_specific_humidity_g_per_kg</th>\n",
              "      <th>reanalysis_tdtr_k</th>\n",
              "      <th>station_avg_temp_c</th>\n",
              "      <th>station_diur_temp_rng_c</th>\n",
              "      <th>station_max_temp_c</th>\n",
              "      <th>station_min_temp_c</th>\n",
              "      <th>station_precip_mm</th>\n",
              "      <th>weekofyear_lag1</th>\n",
              "      <th>ndvi_ne_lag1</th>\n",
              "      <th>ndvi_nw_lag1</th>\n",
              "      <th>ndvi_se_lag1</th>\n",
              "      <th>ndvi_sw_lag1</th>\n",
              "      <th>precipitation_amt_mm_lag1</th>\n",
              "      <th>reanalysis_air_temp_k_lag1</th>\n",
              "      <th>reanalysis_avg_temp_k_lag1</th>\n",
              "      <th>reanalysis_dew_point_temp_k_lag1</th>\n",
              "      <th>reanalysis_max_air_temp_k_lag1</th>\n",
              "      <th>reanalysis_min_air_temp_k_lag1</th>\n",
              "      <th>reanalysis_precip_amt_kg_per_m2_lag1</th>\n",
              "      <th>reanalysis_relative_humidity_percent_lag1</th>\n",
              "      <th>reanalysis_sat_precip_amt_mm_lag1</th>\n",
              "      <th>reanalysis_specific_humidity_g_per_kg_lag1</th>\n",
              "      <th>reanalysis_tdtr_k_lag1</th>\n",
              "      <th>station_avg_temp_c_lag1</th>\n",
              "      <th>station_diur_temp_rng_c_lag1</th>\n",
              "      <th>station_max_temp_c_lag1</th>\n",
              "      <th>station_min_temp_c_lag1</th>\n",
              "      <th>station_precip_mm_lag1</th>\n",
              "    </tr>\n",
              "  </thead>\n",
              "  <tbody>\n",
              "    <tr>\n",
              "      <th>935</th>\n",
              "      <td>sj</td>\n",
              "      <td>2008</td>\n",
              "      <td>17</td>\n",
              "      <td>2008-04-22</td>\n",
              "      <td>-0.0370</td>\n",
              "      <td>-0.010367</td>\n",
              "      <td>0.077314</td>\n",
              "      <td>0.090586</td>\n",
              "      <td>0.00</td>\n",
              "      <td>298.672857</td>\n",
              "      <td>298.692857</td>\n",
              "      <td>294.280000</td>\n",
              "      <td>300.9</td>\n",
              "      <td>295.9</td>\n",
              "      <td>2.17</td>\n",
              "      <td>76.960000</td>\n",
              "      <td>0.00</td>\n",
              "      <td>15.671429</td>\n",
              "      <td>3.957143</td>\n",
              "      <td>27.042857</td>\n",
              "      <td>7.514286</td>\n",
              "      <td>31.7</td>\n",
              "      <td>23.3</td>\n",
              "      <td>0.3</td>\n",
              "      <td>NaN</td>\n",
              "      <td>NaN</td>\n",
              "      <td>NaN</td>\n",
              "      <td>NaN</td>\n",
              "      <td>NaN</td>\n",
              "      <td>NaN</td>\n",
              "      <td>NaN</td>\n",
              "      <td>NaN</td>\n",
              "      <td>NaN</td>\n",
              "      <td>NaN</td>\n",
              "      <td>NaN</td>\n",
              "      <td>NaN</td>\n",
              "      <td>NaN</td>\n",
              "      <td>NaN</td>\n",
              "      <td>NaN</td>\n",
              "      <td>NaN</td>\n",
              "      <td>NaN</td>\n",
              "      <td>NaN</td>\n",
              "      <td>NaN</td>\n",
              "      <td>NaN</td>\n",
              "      <td>NaN</td>\n",
              "    </tr>\n",
              "    <tr>\n",
              "      <th>0</th>\n",
              "      <td>sj</td>\n",
              "      <td>2008</td>\n",
              "      <td>18</td>\n",
              "      <td>2008-04-29</td>\n",
              "      <td>-0.0189</td>\n",
              "      <td>-0.018900</td>\n",
              "      <td>0.102729</td>\n",
              "      <td>0.091200</td>\n",
              "      <td>78.60</td>\n",
              "      <td>298.492857</td>\n",
              "      <td>298.550000</td>\n",
              "      <td>294.527143</td>\n",
              "      <td>301.1</td>\n",
              "      <td>296.4</td>\n",
              "      <td>25.37</td>\n",
              "      <td>78.781429</td>\n",
              "      <td>78.60</td>\n",
              "      <td>15.918571</td>\n",
              "      <td>3.128571</td>\n",
              "      <td>26.528571</td>\n",
              "      <td>7.057143</td>\n",
              "      <td>33.3</td>\n",
              "      <td>21.7</td>\n",
              "      <td>75.2</td>\n",
              "      <td>17.0</td>\n",
              "      <td>-0.0370</td>\n",
              "      <td>-0.010367</td>\n",
              "      <td>0.077314</td>\n",
              "      <td>0.090586</td>\n",
              "      <td>0.00</td>\n",
              "      <td>298.672857</td>\n",
              "      <td>298.692857</td>\n",
              "      <td>294.280000</td>\n",
              "      <td>300.9</td>\n",
              "      <td>295.9</td>\n",
              "      <td>2.17</td>\n",
              "      <td>76.960000</td>\n",
              "      <td>0.00</td>\n",
              "      <td>15.671429</td>\n",
              "      <td>3.957143</td>\n",
              "      <td>27.042857</td>\n",
              "      <td>7.514286</td>\n",
              "      <td>31.7</td>\n",
              "      <td>23.3</td>\n",
              "      <td>0.3</td>\n",
              "    </tr>\n",
              "    <tr>\n",
              "      <th>1</th>\n",
              "      <td>sj</td>\n",
              "      <td>2008</td>\n",
              "      <td>19</td>\n",
              "      <td>2008-05-06</td>\n",
              "      <td>-0.0180</td>\n",
              "      <td>-0.012400</td>\n",
              "      <td>0.082043</td>\n",
              "      <td>0.072314</td>\n",
              "      <td>12.56</td>\n",
              "      <td>298.475714</td>\n",
              "      <td>298.557143</td>\n",
              "      <td>294.395714</td>\n",
              "      <td>300.8</td>\n",
              "      <td>296.7</td>\n",
              "      <td>21.83</td>\n",
              "      <td>78.230000</td>\n",
              "      <td>12.56</td>\n",
              "      <td>15.791429</td>\n",
              "      <td>2.571429</td>\n",
              "      <td>26.071429</td>\n",
              "      <td>5.557143</td>\n",
              "      <td>30.0</td>\n",
              "      <td>22.2</td>\n",
              "      <td>34.3</td>\n",
              "      <td>18.0</td>\n",
              "      <td>-0.0189</td>\n",
              "      <td>-0.018900</td>\n",
              "      <td>0.102729</td>\n",
              "      <td>0.091200</td>\n",
              "      <td>78.60</td>\n",
              "      <td>298.492857</td>\n",
              "      <td>298.550000</td>\n",
              "      <td>294.527143</td>\n",
              "      <td>301.1</td>\n",
              "      <td>296.4</td>\n",
              "      <td>25.37</td>\n",
              "      <td>78.781429</td>\n",
              "      <td>78.60</td>\n",
              "      <td>15.918571</td>\n",
              "      <td>3.128571</td>\n",
              "      <td>26.528571</td>\n",
              "      <td>7.057143</td>\n",
              "      <td>33.3</td>\n",
              "      <td>21.7</td>\n",
              "      <td>75.2</td>\n",
              "    </tr>\n",
              "    <tr>\n",
              "      <th>2</th>\n",
              "      <td>sj</td>\n",
              "      <td>2008</td>\n",
              "      <td>20</td>\n",
              "      <td>2008-05-13</td>\n",
              "      <td>-0.0015</td>\n",
              "      <td>NaN</td>\n",
              "      <td>0.151083</td>\n",
              "      <td>0.091529</td>\n",
              "      <td>3.66</td>\n",
              "      <td>299.455714</td>\n",
              "      <td>299.357143</td>\n",
              "      <td>295.308571</td>\n",
              "      <td>302.2</td>\n",
              "      <td>296.4</td>\n",
              "      <td>4.12</td>\n",
              "      <td>78.270000</td>\n",
              "      <td>3.66</td>\n",
              "      <td>16.674286</td>\n",
              "      <td>4.428571</td>\n",
              "      <td>27.928571</td>\n",
              "      <td>7.785714</td>\n",
              "      <td>32.8</td>\n",
              "      <td>22.8</td>\n",
              "      <td>3.0</td>\n",
              "      <td>19.0</td>\n",
              "      <td>-0.0180</td>\n",
              "      <td>-0.012400</td>\n",
              "      <td>0.082043</td>\n",
              "      <td>0.072314</td>\n",
              "      <td>12.56</td>\n",
              "      <td>298.475714</td>\n",
              "      <td>298.557143</td>\n",
              "      <td>294.395714</td>\n",
              "      <td>300.8</td>\n",
              "      <td>296.7</td>\n",
              "      <td>21.83</td>\n",
              "      <td>78.230000</td>\n",
              "      <td>12.56</td>\n",
              "      <td>15.791429</td>\n",
              "      <td>2.571429</td>\n",
              "      <td>26.071429</td>\n",
              "      <td>5.557143</td>\n",
              "      <td>30.0</td>\n",
              "      <td>22.2</td>\n",
              "      <td>34.3</td>\n",
              "    </tr>\n",
              "    <tr>\n",
              "      <th>3</th>\n",
              "      <td>sj</td>\n",
              "      <td>2008</td>\n",
              "      <td>21</td>\n",
              "      <td>2008-05-20</td>\n",
              "      <td>NaN</td>\n",
              "      <td>-0.019867</td>\n",
              "      <td>0.124329</td>\n",
              "      <td>0.125686</td>\n",
              "      <td>0.00</td>\n",
              "      <td>299.690000</td>\n",
              "      <td>299.728571</td>\n",
              "      <td>294.402857</td>\n",
              "      <td>303.0</td>\n",
              "      <td>296.9</td>\n",
              "      <td>2.20</td>\n",
              "      <td>73.015714</td>\n",
              "      <td>0.00</td>\n",
              "      <td>15.775714</td>\n",
              "      <td>4.342857</td>\n",
              "      <td>28.057143</td>\n",
              "      <td>6.271429</td>\n",
              "      <td>33.3</td>\n",
              "      <td>24.4</td>\n",
              "      <td>0.3</td>\n",
              "      <td>20.0</td>\n",
              "      <td>-0.0015</td>\n",
              "      <td>NaN</td>\n",
              "      <td>0.151083</td>\n",
              "      <td>0.091529</td>\n",
              "      <td>3.66</td>\n",
              "      <td>299.455714</td>\n",
              "      <td>299.357143</td>\n",
              "      <td>295.308571</td>\n",
              "      <td>302.2</td>\n",
              "      <td>296.4</td>\n",
              "      <td>4.12</td>\n",
              "      <td>78.270000</td>\n",
              "      <td>3.66</td>\n",
              "      <td>16.674286</td>\n",
              "      <td>4.428571</td>\n",
              "      <td>27.928571</td>\n",
              "      <td>7.785714</td>\n",
              "      <td>32.8</td>\n",
              "      <td>22.8</td>\n",
              "      <td>3.0</td>\n",
              "    </tr>\n",
              "  </tbody>\n",
              "</table>\n",
              "</div>"
            ],
            "text/plain": [
              "    city  year  ...  station_min_temp_c_lag1 station_precip_mm_lag1\n",
              "935   sj  2008  ...                      NaN                    NaN\n",
              "0     sj  2008  ...                     23.3                    0.3\n",
              "1     sj  2008  ...                     21.7                   75.2\n",
              "2     sj  2008  ...                     22.2                   34.3\n",
              "3     sj  2008  ...                     22.8                    3.0\n",
              "\n",
              "[5 rows x 45 columns]"
            ]
          },
          "metadata": {
            "tags": []
          },
          "execution_count": 115
        }
      ]
    },
    {
      "cell_type": "code",
      "metadata": {
        "id": "PXQGRjgiMnn7",
        "colab_type": "code",
        "outputId": "bf1ce401-c09f-49bf-b278-63e39f638494",
        "colab": {
          "base_uri": "https://localhost:8080/",
          "height": 34
        }
      },
      "source": [
        "# create city dummy\n",
        "X_test1['city_sj'] = [1 if x == 'sj' else 0 for x in X_test1['city']]\n",
        "\n",
        "print(X_test1.shape)"
      ],
      "execution_count": 0,
      "outputs": [
        {
          "output_type": "stream",
          "text": [
            "(418, 46)\n"
          ],
          "name": "stdout"
        }
      ]
    },
    {
      "cell_type": "code",
      "metadata": {
        "colab_type": "code",
        "id": "q64Smx0dRkeU",
        "colab": {}
      },
      "source": [
        "# drop the training data\n",
        "indexNames = X_test1[(X_test1['city'] == 'sj') & (X_test1['year'] == 2008) & (X_test1['weekofyear'] == 17)].index\n",
        "X_test1.drop(indexNames , inplace=True)"
      ],
      "execution_count": 0,
      "outputs": []
    },
    {
      "cell_type": "code",
      "metadata": {
        "colab_type": "code",
        "outputId": "554c97da-ccc4-433b-939f-2d1470c555d8",
        "id": "DWcPyP-nRke_",
        "colab": {
          "base_uri": "https://localhost:8080/",
          "height": 34
        }
      },
      "source": [
        "indexNames = X_test1[(X_test1['city'] == 'iq') & (X_test1['year'] == 2010) & (X_test1['weekofyear'] == 25)].index\n",
        "X_test1.drop(indexNames , inplace=True)\n",
        "\n",
        "print(X_test1.shape)"
      ],
      "execution_count": 0,
      "outputs": [
        {
          "output_type": "stream",
          "text": [
            "(416, 46)\n"
          ],
          "name": "stdout"
        }
      ]
    },
    {
      "cell_type": "code",
      "metadata": {
        "colab_type": "code",
        "outputId": "96618c73-863a-47fe-ba59-496edbb4014f",
        "id": "s0WI5iZhRkfM",
        "colab": {
          "base_uri": "https://localhost:8080/",
          "height": 224
        }
      },
      "source": [
        "X_test1.head()"
      ],
      "execution_count": 0,
      "outputs": [
        {
          "output_type": "execute_result",
          "data": {
            "text/html": [
              "<div>\n",
              "<style scoped>\n",
              "    .dataframe tbody tr th:only-of-type {\n",
              "        vertical-align: middle;\n",
              "    }\n",
              "\n",
              "    .dataframe tbody tr th {\n",
              "        vertical-align: top;\n",
              "    }\n",
              "\n",
              "    .dataframe thead th {\n",
              "        text-align: right;\n",
              "    }\n",
              "</style>\n",
              "<table border=\"1\" class=\"dataframe\">\n",
              "  <thead>\n",
              "    <tr style=\"text-align: right;\">\n",
              "      <th></th>\n",
              "      <th>city</th>\n",
              "      <th>year</th>\n",
              "      <th>weekofyear</th>\n",
              "      <th>week_start_date</th>\n",
              "      <th>ndvi_ne</th>\n",
              "      <th>ndvi_nw</th>\n",
              "      <th>ndvi_se</th>\n",
              "      <th>ndvi_sw</th>\n",
              "      <th>precipitation_amt_mm</th>\n",
              "      <th>reanalysis_air_temp_k</th>\n",
              "      <th>reanalysis_avg_temp_k</th>\n",
              "      <th>reanalysis_dew_point_temp_k</th>\n",
              "      <th>reanalysis_max_air_temp_k</th>\n",
              "      <th>reanalysis_min_air_temp_k</th>\n",
              "      <th>reanalysis_precip_amt_kg_per_m2</th>\n",
              "      <th>reanalysis_relative_humidity_percent</th>\n",
              "      <th>reanalysis_sat_precip_amt_mm</th>\n",
              "      <th>reanalysis_specific_humidity_g_per_kg</th>\n",
              "      <th>reanalysis_tdtr_k</th>\n",
              "      <th>station_avg_temp_c</th>\n",
              "      <th>station_diur_temp_rng_c</th>\n",
              "      <th>station_max_temp_c</th>\n",
              "      <th>station_min_temp_c</th>\n",
              "      <th>station_precip_mm</th>\n",
              "      <th>weekofyear_lag1</th>\n",
              "      <th>ndvi_ne_lag1</th>\n",
              "      <th>ndvi_nw_lag1</th>\n",
              "      <th>ndvi_se_lag1</th>\n",
              "      <th>ndvi_sw_lag1</th>\n",
              "      <th>precipitation_amt_mm_lag1</th>\n",
              "      <th>reanalysis_air_temp_k_lag1</th>\n",
              "      <th>reanalysis_avg_temp_k_lag1</th>\n",
              "      <th>reanalysis_dew_point_temp_k_lag1</th>\n",
              "      <th>reanalysis_max_air_temp_k_lag1</th>\n",
              "      <th>reanalysis_min_air_temp_k_lag1</th>\n",
              "      <th>reanalysis_precip_amt_kg_per_m2_lag1</th>\n",
              "      <th>reanalysis_relative_humidity_percent_lag1</th>\n",
              "      <th>reanalysis_sat_precip_amt_mm_lag1</th>\n",
              "      <th>reanalysis_specific_humidity_g_per_kg_lag1</th>\n",
              "      <th>reanalysis_tdtr_k_lag1</th>\n",
              "      <th>station_avg_temp_c_lag1</th>\n",
              "      <th>station_diur_temp_rng_c_lag1</th>\n",
              "      <th>station_max_temp_c_lag1</th>\n",
              "      <th>station_min_temp_c_lag1</th>\n",
              "      <th>station_precip_mm_lag1</th>\n",
              "      <th>city_sj</th>\n",
              "    </tr>\n",
              "  </thead>\n",
              "  <tbody>\n",
              "    <tr>\n",
              "      <th>0</th>\n",
              "      <td>sj</td>\n",
              "      <td>2008</td>\n",
              "      <td>18</td>\n",
              "      <td>2008-04-29</td>\n",
              "      <td>-0.0189</td>\n",
              "      <td>-0.018900</td>\n",
              "      <td>0.102729</td>\n",
              "      <td>0.091200</td>\n",
              "      <td>78.60</td>\n",
              "      <td>298.492857</td>\n",
              "      <td>298.550000</td>\n",
              "      <td>294.527143</td>\n",
              "      <td>301.1</td>\n",
              "      <td>296.4</td>\n",
              "      <td>25.37</td>\n",
              "      <td>78.781429</td>\n",
              "      <td>78.60</td>\n",
              "      <td>15.918571</td>\n",
              "      <td>3.128571</td>\n",
              "      <td>26.528571</td>\n",
              "      <td>7.057143</td>\n",
              "      <td>33.3</td>\n",
              "      <td>21.7</td>\n",
              "      <td>75.2</td>\n",
              "      <td>17.0</td>\n",
              "      <td>-0.0370</td>\n",
              "      <td>-0.010367</td>\n",
              "      <td>0.077314</td>\n",
              "      <td>0.090586</td>\n",
              "      <td>0.00</td>\n",
              "      <td>298.672857</td>\n",
              "      <td>298.692857</td>\n",
              "      <td>294.280000</td>\n",
              "      <td>300.9</td>\n",
              "      <td>295.9</td>\n",
              "      <td>2.17</td>\n",
              "      <td>76.960000</td>\n",
              "      <td>0.00</td>\n",
              "      <td>15.671429</td>\n",
              "      <td>3.957143</td>\n",
              "      <td>27.042857</td>\n",
              "      <td>7.514286</td>\n",
              "      <td>31.7</td>\n",
              "      <td>23.3</td>\n",
              "      <td>0.3</td>\n",
              "      <td>1</td>\n",
              "    </tr>\n",
              "    <tr>\n",
              "      <th>1</th>\n",
              "      <td>sj</td>\n",
              "      <td>2008</td>\n",
              "      <td>19</td>\n",
              "      <td>2008-05-06</td>\n",
              "      <td>-0.0180</td>\n",
              "      <td>-0.012400</td>\n",
              "      <td>0.082043</td>\n",
              "      <td>0.072314</td>\n",
              "      <td>12.56</td>\n",
              "      <td>298.475714</td>\n",
              "      <td>298.557143</td>\n",
              "      <td>294.395714</td>\n",
              "      <td>300.8</td>\n",
              "      <td>296.7</td>\n",
              "      <td>21.83</td>\n",
              "      <td>78.230000</td>\n",
              "      <td>12.56</td>\n",
              "      <td>15.791429</td>\n",
              "      <td>2.571429</td>\n",
              "      <td>26.071429</td>\n",
              "      <td>5.557143</td>\n",
              "      <td>30.0</td>\n",
              "      <td>22.2</td>\n",
              "      <td>34.3</td>\n",
              "      <td>18.0</td>\n",
              "      <td>-0.0189</td>\n",
              "      <td>-0.018900</td>\n",
              "      <td>0.102729</td>\n",
              "      <td>0.091200</td>\n",
              "      <td>78.60</td>\n",
              "      <td>298.492857</td>\n",
              "      <td>298.550000</td>\n",
              "      <td>294.527143</td>\n",
              "      <td>301.1</td>\n",
              "      <td>296.4</td>\n",
              "      <td>25.37</td>\n",
              "      <td>78.781429</td>\n",
              "      <td>78.60</td>\n",
              "      <td>15.918571</td>\n",
              "      <td>3.128571</td>\n",
              "      <td>26.528571</td>\n",
              "      <td>7.057143</td>\n",
              "      <td>33.3</td>\n",
              "      <td>21.7</td>\n",
              "      <td>75.2</td>\n",
              "      <td>1</td>\n",
              "    </tr>\n",
              "    <tr>\n",
              "      <th>2</th>\n",
              "      <td>sj</td>\n",
              "      <td>2008</td>\n",
              "      <td>20</td>\n",
              "      <td>2008-05-13</td>\n",
              "      <td>-0.0015</td>\n",
              "      <td>NaN</td>\n",
              "      <td>0.151083</td>\n",
              "      <td>0.091529</td>\n",
              "      <td>3.66</td>\n",
              "      <td>299.455714</td>\n",
              "      <td>299.357143</td>\n",
              "      <td>295.308571</td>\n",
              "      <td>302.2</td>\n",
              "      <td>296.4</td>\n",
              "      <td>4.12</td>\n",
              "      <td>78.270000</td>\n",
              "      <td>3.66</td>\n",
              "      <td>16.674286</td>\n",
              "      <td>4.428571</td>\n",
              "      <td>27.928571</td>\n",
              "      <td>7.785714</td>\n",
              "      <td>32.8</td>\n",
              "      <td>22.8</td>\n",
              "      <td>3.0</td>\n",
              "      <td>19.0</td>\n",
              "      <td>-0.0180</td>\n",
              "      <td>-0.012400</td>\n",
              "      <td>0.082043</td>\n",
              "      <td>0.072314</td>\n",
              "      <td>12.56</td>\n",
              "      <td>298.475714</td>\n",
              "      <td>298.557143</td>\n",
              "      <td>294.395714</td>\n",
              "      <td>300.8</td>\n",
              "      <td>296.7</td>\n",
              "      <td>21.83</td>\n",
              "      <td>78.230000</td>\n",
              "      <td>12.56</td>\n",
              "      <td>15.791429</td>\n",
              "      <td>2.571429</td>\n",
              "      <td>26.071429</td>\n",
              "      <td>5.557143</td>\n",
              "      <td>30.0</td>\n",
              "      <td>22.2</td>\n",
              "      <td>34.3</td>\n",
              "      <td>1</td>\n",
              "    </tr>\n",
              "    <tr>\n",
              "      <th>3</th>\n",
              "      <td>sj</td>\n",
              "      <td>2008</td>\n",
              "      <td>21</td>\n",
              "      <td>2008-05-20</td>\n",
              "      <td>NaN</td>\n",
              "      <td>-0.019867</td>\n",
              "      <td>0.124329</td>\n",
              "      <td>0.125686</td>\n",
              "      <td>0.00</td>\n",
              "      <td>299.690000</td>\n",
              "      <td>299.728571</td>\n",
              "      <td>294.402857</td>\n",
              "      <td>303.0</td>\n",
              "      <td>296.9</td>\n",
              "      <td>2.20</td>\n",
              "      <td>73.015714</td>\n",
              "      <td>0.00</td>\n",
              "      <td>15.775714</td>\n",
              "      <td>4.342857</td>\n",
              "      <td>28.057143</td>\n",
              "      <td>6.271429</td>\n",
              "      <td>33.3</td>\n",
              "      <td>24.4</td>\n",
              "      <td>0.3</td>\n",
              "      <td>20.0</td>\n",
              "      <td>-0.0015</td>\n",
              "      <td>NaN</td>\n",
              "      <td>0.151083</td>\n",
              "      <td>0.091529</td>\n",
              "      <td>3.66</td>\n",
              "      <td>299.455714</td>\n",
              "      <td>299.357143</td>\n",
              "      <td>295.308571</td>\n",
              "      <td>302.2</td>\n",
              "      <td>296.4</td>\n",
              "      <td>4.12</td>\n",
              "      <td>78.270000</td>\n",
              "      <td>3.66</td>\n",
              "      <td>16.674286</td>\n",
              "      <td>4.428571</td>\n",
              "      <td>27.928571</td>\n",
              "      <td>7.785714</td>\n",
              "      <td>32.8</td>\n",
              "      <td>22.8</td>\n",
              "      <td>3.0</td>\n",
              "      <td>1</td>\n",
              "    </tr>\n",
              "    <tr>\n",
              "      <th>4</th>\n",
              "      <td>sj</td>\n",
              "      <td>2008</td>\n",
              "      <td>22</td>\n",
              "      <td>2008-05-27</td>\n",
              "      <td>0.0568</td>\n",
              "      <td>0.039833</td>\n",
              "      <td>0.062267</td>\n",
              "      <td>0.075914</td>\n",
              "      <td>0.76</td>\n",
              "      <td>299.780000</td>\n",
              "      <td>299.671429</td>\n",
              "      <td>294.760000</td>\n",
              "      <td>302.3</td>\n",
              "      <td>297.3</td>\n",
              "      <td>4.36</td>\n",
              "      <td>74.084286</td>\n",
              "      <td>0.76</td>\n",
              "      <td>16.137143</td>\n",
              "      <td>3.542857</td>\n",
              "      <td>27.614286</td>\n",
              "      <td>7.085714</td>\n",
              "      <td>33.3</td>\n",
              "      <td>23.3</td>\n",
              "      <td>84.1</td>\n",
              "      <td>21.0</td>\n",
              "      <td>NaN</td>\n",
              "      <td>-0.019867</td>\n",
              "      <td>0.124329</td>\n",
              "      <td>0.125686</td>\n",
              "      <td>0.00</td>\n",
              "      <td>299.690000</td>\n",
              "      <td>299.728571</td>\n",
              "      <td>294.402857</td>\n",
              "      <td>303.0</td>\n",
              "      <td>296.9</td>\n",
              "      <td>2.20</td>\n",
              "      <td>73.015714</td>\n",
              "      <td>0.00</td>\n",
              "      <td>15.775714</td>\n",
              "      <td>4.342857</td>\n",
              "      <td>28.057143</td>\n",
              "      <td>6.271429</td>\n",
              "      <td>33.3</td>\n",
              "      <td>24.4</td>\n",
              "      <td>0.3</td>\n",
              "      <td>1</td>\n",
              "    </tr>\n",
              "  </tbody>\n",
              "</table>\n",
              "</div>"
            ],
            "text/plain": [
              "  city  year  ...  station_precip_mm_lag1 city_sj\n",
              "0   sj  2008  ...                     0.3       1\n",
              "1   sj  2008  ...                    75.2       1\n",
              "2   sj  2008  ...                    34.3       1\n",
              "3   sj  2008  ...                     3.0       1\n",
              "4   sj  2008  ...                     0.3       1\n",
              "\n",
              "[5 rows x 46 columns]"
            ]
          },
          "metadata": {
            "tags": []
          },
          "execution_count": 119
        }
      ]
    },
    {
      "cell_type": "code",
      "metadata": {
        "id": "DznAlBzwMnjd",
        "colab_type": "code",
        "outputId": "794bb4aa-a527-494c-a15b-19b58a1b23a6",
        "colab": {
          "base_uri": "https://localhost:8080/",
          "height": 34
        }
      },
      "source": [
        "X_test1 = X_test1.drop(['city', 'year', 'week_start_date'], axis=1)\n",
        "\n",
        "print(X_test1.shape)"
      ],
      "execution_count": 0,
      "outputs": [
        {
          "output_type": "stream",
          "text": [
            "(416, 43)\n"
          ],
          "name": "stdout"
        }
      ]
    },
    {
      "cell_type": "code",
      "metadata": {
        "id": "JWrb0aYaMYZr",
        "colab_type": "code",
        "outputId": "91976a79-92ba-446a-a765-8747b54dc137",
        "colab": {
          "base_uri": "https://localhost:8080/",
          "height": 224
        }
      },
      "source": [
        "X_test1.head()"
      ],
      "execution_count": 0,
      "outputs": [
        {
          "output_type": "execute_result",
          "data": {
            "text/html": [
              "<div>\n",
              "<style scoped>\n",
              "    .dataframe tbody tr th:only-of-type {\n",
              "        vertical-align: middle;\n",
              "    }\n",
              "\n",
              "    .dataframe tbody tr th {\n",
              "        vertical-align: top;\n",
              "    }\n",
              "\n",
              "    .dataframe thead th {\n",
              "        text-align: right;\n",
              "    }\n",
              "</style>\n",
              "<table border=\"1\" class=\"dataframe\">\n",
              "  <thead>\n",
              "    <tr style=\"text-align: right;\">\n",
              "      <th></th>\n",
              "      <th>weekofyear</th>\n",
              "      <th>ndvi_ne</th>\n",
              "      <th>ndvi_nw</th>\n",
              "      <th>ndvi_se</th>\n",
              "      <th>ndvi_sw</th>\n",
              "      <th>precipitation_amt_mm</th>\n",
              "      <th>reanalysis_air_temp_k</th>\n",
              "      <th>reanalysis_avg_temp_k</th>\n",
              "      <th>reanalysis_dew_point_temp_k</th>\n",
              "      <th>reanalysis_max_air_temp_k</th>\n",
              "      <th>reanalysis_min_air_temp_k</th>\n",
              "      <th>reanalysis_precip_amt_kg_per_m2</th>\n",
              "      <th>reanalysis_relative_humidity_percent</th>\n",
              "      <th>reanalysis_sat_precip_amt_mm</th>\n",
              "      <th>reanalysis_specific_humidity_g_per_kg</th>\n",
              "      <th>reanalysis_tdtr_k</th>\n",
              "      <th>station_avg_temp_c</th>\n",
              "      <th>station_diur_temp_rng_c</th>\n",
              "      <th>station_max_temp_c</th>\n",
              "      <th>station_min_temp_c</th>\n",
              "      <th>station_precip_mm</th>\n",
              "      <th>weekofyear_lag1</th>\n",
              "      <th>ndvi_ne_lag1</th>\n",
              "      <th>ndvi_nw_lag1</th>\n",
              "      <th>ndvi_se_lag1</th>\n",
              "      <th>ndvi_sw_lag1</th>\n",
              "      <th>precipitation_amt_mm_lag1</th>\n",
              "      <th>reanalysis_air_temp_k_lag1</th>\n",
              "      <th>reanalysis_avg_temp_k_lag1</th>\n",
              "      <th>reanalysis_dew_point_temp_k_lag1</th>\n",
              "      <th>reanalysis_max_air_temp_k_lag1</th>\n",
              "      <th>reanalysis_min_air_temp_k_lag1</th>\n",
              "      <th>reanalysis_precip_amt_kg_per_m2_lag1</th>\n",
              "      <th>reanalysis_relative_humidity_percent_lag1</th>\n",
              "      <th>reanalysis_sat_precip_amt_mm_lag1</th>\n",
              "      <th>reanalysis_specific_humidity_g_per_kg_lag1</th>\n",
              "      <th>reanalysis_tdtr_k_lag1</th>\n",
              "      <th>station_avg_temp_c_lag1</th>\n",
              "      <th>station_diur_temp_rng_c_lag1</th>\n",
              "      <th>station_max_temp_c_lag1</th>\n",
              "      <th>station_min_temp_c_lag1</th>\n",
              "      <th>station_precip_mm_lag1</th>\n",
              "      <th>city_sj</th>\n",
              "    </tr>\n",
              "  </thead>\n",
              "  <tbody>\n",
              "    <tr>\n",
              "      <th>0</th>\n",
              "      <td>18</td>\n",
              "      <td>-0.0189</td>\n",
              "      <td>-0.018900</td>\n",
              "      <td>0.102729</td>\n",
              "      <td>0.091200</td>\n",
              "      <td>78.60</td>\n",
              "      <td>298.492857</td>\n",
              "      <td>298.550000</td>\n",
              "      <td>294.527143</td>\n",
              "      <td>301.1</td>\n",
              "      <td>296.4</td>\n",
              "      <td>25.37</td>\n",
              "      <td>78.781429</td>\n",
              "      <td>78.60</td>\n",
              "      <td>15.918571</td>\n",
              "      <td>3.128571</td>\n",
              "      <td>26.528571</td>\n",
              "      <td>7.057143</td>\n",
              "      <td>33.3</td>\n",
              "      <td>21.7</td>\n",
              "      <td>75.2</td>\n",
              "      <td>17.0</td>\n",
              "      <td>-0.0370</td>\n",
              "      <td>-0.010367</td>\n",
              "      <td>0.077314</td>\n",
              "      <td>0.090586</td>\n",
              "      <td>0.00</td>\n",
              "      <td>298.672857</td>\n",
              "      <td>298.692857</td>\n",
              "      <td>294.280000</td>\n",
              "      <td>300.9</td>\n",
              "      <td>295.9</td>\n",
              "      <td>2.17</td>\n",
              "      <td>76.960000</td>\n",
              "      <td>0.00</td>\n",
              "      <td>15.671429</td>\n",
              "      <td>3.957143</td>\n",
              "      <td>27.042857</td>\n",
              "      <td>7.514286</td>\n",
              "      <td>31.7</td>\n",
              "      <td>23.3</td>\n",
              "      <td>0.3</td>\n",
              "      <td>1</td>\n",
              "    </tr>\n",
              "    <tr>\n",
              "      <th>1</th>\n",
              "      <td>19</td>\n",
              "      <td>-0.0180</td>\n",
              "      <td>-0.012400</td>\n",
              "      <td>0.082043</td>\n",
              "      <td>0.072314</td>\n",
              "      <td>12.56</td>\n",
              "      <td>298.475714</td>\n",
              "      <td>298.557143</td>\n",
              "      <td>294.395714</td>\n",
              "      <td>300.8</td>\n",
              "      <td>296.7</td>\n",
              "      <td>21.83</td>\n",
              "      <td>78.230000</td>\n",
              "      <td>12.56</td>\n",
              "      <td>15.791429</td>\n",
              "      <td>2.571429</td>\n",
              "      <td>26.071429</td>\n",
              "      <td>5.557143</td>\n",
              "      <td>30.0</td>\n",
              "      <td>22.2</td>\n",
              "      <td>34.3</td>\n",
              "      <td>18.0</td>\n",
              "      <td>-0.0189</td>\n",
              "      <td>-0.018900</td>\n",
              "      <td>0.102729</td>\n",
              "      <td>0.091200</td>\n",
              "      <td>78.60</td>\n",
              "      <td>298.492857</td>\n",
              "      <td>298.550000</td>\n",
              "      <td>294.527143</td>\n",
              "      <td>301.1</td>\n",
              "      <td>296.4</td>\n",
              "      <td>25.37</td>\n",
              "      <td>78.781429</td>\n",
              "      <td>78.60</td>\n",
              "      <td>15.918571</td>\n",
              "      <td>3.128571</td>\n",
              "      <td>26.528571</td>\n",
              "      <td>7.057143</td>\n",
              "      <td>33.3</td>\n",
              "      <td>21.7</td>\n",
              "      <td>75.2</td>\n",
              "      <td>1</td>\n",
              "    </tr>\n",
              "    <tr>\n",
              "      <th>2</th>\n",
              "      <td>20</td>\n",
              "      <td>-0.0015</td>\n",
              "      <td>NaN</td>\n",
              "      <td>0.151083</td>\n",
              "      <td>0.091529</td>\n",
              "      <td>3.66</td>\n",
              "      <td>299.455714</td>\n",
              "      <td>299.357143</td>\n",
              "      <td>295.308571</td>\n",
              "      <td>302.2</td>\n",
              "      <td>296.4</td>\n",
              "      <td>4.12</td>\n",
              "      <td>78.270000</td>\n",
              "      <td>3.66</td>\n",
              "      <td>16.674286</td>\n",
              "      <td>4.428571</td>\n",
              "      <td>27.928571</td>\n",
              "      <td>7.785714</td>\n",
              "      <td>32.8</td>\n",
              "      <td>22.8</td>\n",
              "      <td>3.0</td>\n",
              "      <td>19.0</td>\n",
              "      <td>-0.0180</td>\n",
              "      <td>-0.012400</td>\n",
              "      <td>0.082043</td>\n",
              "      <td>0.072314</td>\n",
              "      <td>12.56</td>\n",
              "      <td>298.475714</td>\n",
              "      <td>298.557143</td>\n",
              "      <td>294.395714</td>\n",
              "      <td>300.8</td>\n",
              "      <td>296.7</td>\n",
              "      <td>21.83</td>\n",
              "      <td>78.230000</td>\n",
              "      <td>12.56</td>\n",
              "      <td>15.791429</td>\n",
              "      <td>2.571429</td>\n",
              "      <td>26.071429</td>\n",
              "      <td>5.557143</td>\n",
              "      <td>30.0</td>\n",
              "      <td>22.2</td>\n",
              "      <td>34.3</td>\n",
              "      <td>1</td>\n",
              "    </tr>\n",
              "    <tr>\n",
              "      <th>3</th>\n",
              "      <td>21</td>\n",
              "      <td>NaN</td>\n",
              "      <td>-0.019867</td>\n",
              "      <td>0.124329</td>\n",
              "      <td>0.125686</td>\n",
              "      <td>0.00</td>\n",
              "      <td>299.690000</td>\n",
              "      <td>299.728571</td>\n",
              "      <td>294.402857</td>\n",
              "      <td>303.0</td>\n",
              "      <td>296.9</td>\n",
              "      <td>2.20</td>\n",
              "      <td>73.015714</td>\n",
              "      <td>0.00</td>\n",
              "      <td>15.775714</td>\n",
              "      <td>4.342857</td>\n",
              "      <td>28.057143</td>\n",
              "      <td>6.271429</td>\n",
              "      <td>33.3</td>\n",
              "      <td>24.4</td>\n",
              "      <td>0.3</td>\n",
              "      <td>20.0</td>\n",
              "      <td>-0.0015</td>\n",
              "      <td>NaN</td>\n",
              "      <td>0.151083</td>\n",
              "      <td>0.091529</td>\n",
              "      <td>3.66</td>\n",
              "      <td>299.455714</td>\n",
              "      <td>299.357143</td>\n",
              "      <td>295.308571</td>\n",
              "      <td>302.2</td>\n",
              "      <td>296.4</td>\n",
              "      <td>4.12</td>\n",
              "      <td>78.270000</td>\n",
              "      <td>3.66</td>\n",
              "      <td>16.674286</td>\n",
              "      <td>4.428571</td>\n",
              "      <td>27.928571</td>\n",
              "      <td>7.785714</td>\n",
              "      <td>32.8</td>\n",
              "      <td>22.8</td>\n",
              "      <td>3.0</td>\n",
              "      <td>1</td>\n",
              "    </tr>\n",
              "    <tr>\n",
              "      <th>4</th>\n",
              "      <td>22</td>\n",
              "      <td>0.0568</td>\n",
              "      <td>0.039833</td>\n",
              "      <td>0.062267</td>\n",
              "      <td>0.075914</td>\n",
              "      <td>0.76</td>\n",
              "      <td>299.780000</td>\n",
              "      <td>299.671429</td>\n",
              "      <td>294.760000</td>\n",
              "      <td>302.3</td>\n",
              "      <td>297.3</td>\n",
              "      <td>4.36</td>\n",
              "      <td>74.084286</td>\n",
              "      <td>0.76</td>\n",
              "      <td>16.137143</td>\n",
              "      <td>3.542857</td>\n",
              "      <td>27.614286</td>\n",
              "      <td>7.085714</td>\n",
              "      <td>33.3</td>\n",
              "      <td>23.3</td>\n",
              "      <td>84.1</td>\n",
              "      <td>21.0</td>\n",
              "      <td>NaN</td>\n",
              "      <td>-0.019867</td>\n",
              "      <td>0.124329</td>\n",
              "      <td>0.125686</td>\n",
              "      <td>0.00</td>\n",
              "      <td>299.690000</td>\n",
              "      <td>299.728571</td>\n",
              "      <td>294.402857</td>\n",
              "      <td>303.0</td>\n",
              "      <td>296.9</td>\n",
              "      <td>2.20</td>\n",
              "      <td>73.015714</td>\n",
              "      <td>0.00</td>\n",
              "      <td>15.775714</td>\n",
              "      <td>4.342857</td>\n",
              "      <td>28.057143</td>\n",
              "      <td>6.271429</td>\n",
              "      <td>33.3</td>\n",
              "      <td>24.4</td>\n",
              "      <td>0.3</td>\n",
              "      <td>1</td>\n",
              "    </tr>\n",
              "  </tbody>\n",
              "</table>\n",
              "</div>"
            ],
            "text/plain": [
              "   weekofyear  ndvi_ne  ...  station_precip_mm_lag1  city_sj\n",
              "0          18  -0.0189  ...                     0.3        1\n",
              "1          19  -0.0180  ...                    75.2        1\n",
              "2          20  -0.0015  ...                    34.3        1\n",
              "3          21      NaN  ...                     3.0        1\n",
              "4          22   0.0568  ...                     0.3        1\n",
              "\n",
              "[5 rows x 43 columns]"
            ]
          },
          "metadata": {
            "tags": []
          },
          "execution_count": 132
        }
      ]
    },
    {
      "cell_type": "markdown",
      "metadata": {
        "id": "ludJ8_EQfRRI",
        "colab_type": "text"
      },
      "source": [
        "## Visualize Correlation between Total Cases and Other Variables"
      ]
    },
    {
      "cell_type": "code",
      "metadata": {
        "id": "gzX3cDv9Ku2P",
        "colab_type": "code",
        "colab": {}
      },
      "source": [
        "df = dengue_features_train.copy()\n",
        "df[\"total_cases\"] =  dengue_labels_train.total_cases"
      ],
      "execution_count": 0,
      "outputs": []
    },
    {
      "cell_type": "code",
      "metadata": {
        "id": "1W4ArHc-c18K",
        "colab_type": "code",
        "colab": {}
      },
      "source": [
        "df_sj = df[df['city'] == 'sj']\n",
        "df_iq = df[df['city'] == 'iq']"
      ],
      "execution_count": 0,
      "outputs": []
    },
    {
      "cell_type": "code",
      "metadata": {
        "id": "Duwbf3YbdsNU",
        "colab_type": "code",
        "outputId": "d1b2313a-9699-4439-b83c-3759a6dec13d",
        "colab": {
          "base_uri": "https://localhost:8080/",
          "height": 619
        }
      },
      "source": [
        "import matplotlib.pyplot as plt\n",
        "\n",
        "plt.figure(figsize=(20,10))\n",
        "plt.scatter(df_sj.week_start_date, df_sj.total_cases, c = \"blue\", marker = \"s\")\n",
        "plt.title(\"weekstartdate vs total_cases\")\n",
        "plt.xlabel(\"weekstartdate\")\n",
        "plt.ylabel(\"total_cases\")\n",
        "plt.show()"
      ],
      "execution_count": 0,
      "outputs": [
        {
          "output_type": "display_data",
          "data": {
            "image/png": "[encoded data removed]",
            "text/plain": [
              "<Figure size 1440x720 with 1 Axes>"
            ]
          },
          "metadata": {
            "tags": []
          }
        }
      ]
    },
    {
      "cell_type": "code",
      "metadata": {
        "id": "WKfo1lGueU0I",
        "colab_type": "code",
        "outputId": "ee04bede-e1bc-47bd-c200-ee124089abdc",
        "colab": {
          "base_uri": "https://localhost:8080/",
          "height": 619
        }
      },
      "source": [
        "import matplotlib.pyplot as plt\n",
        "\n",
        "plt.figure(figsize=(20,10))\n",
        "plt.scatter(df_iq.week_start_date, df_iq.total_cases, c = \"blue\", marker = \"s\")\n",
        "plt.title(\"weekstartdate vs total_cases\")\n",
        "plt.xlabel(\"weekstartdate\")\n",
        "plt.ylabel(\"total_cases\")\n",
        "plt.show()"
      ],
      "execution_count": 0,
      "outputs": [
        {
          "output_type": "display_data",
          "data": {
            "image/png": "[encoded data removed]",
            "text/plain": [
              "<Figure size 1440x720 with 1 Axes>"
            ]
          },
          "metadata": {
            "tags": []
          }
        }
      ]
    },
    {
      "cell_type": "code",
      "metadata": {
        "id": "zeMB9Xl2dsW3",
        "colab_type": "code",
        "colab": {}
      },
      "source": [
        ""
      ],
      "execution_count": 0,
      "outputs": []
    },
    {
      "cell_type": "code",
      "metadata": {
        "id": "VLXn_0kjKjsy",
        "colab_type": "code",
        "outputId": "571a4885-4aff-40a4-92a0-90ba533947a0",
        "colab": {
          "base_uri": "https://localhost:8080/",
          "height": 295
        }
      },
      "source": [
        "import matplotlib.pyplot as plt\n",
        "\n",
        "plt.scatter(df.weekofyear, df.total_cases, c = \"blue\", marker = \"s\")\n",
        "plt.title(\"weekofyear vs total_cases\")\n",
        "plt.xlabel(\"weekofyear\")\n",
        "plt.ylabel(\"total_cases\")\n",
        "plt.show()"
      ],
      "execution_count": 0,
      "outputs": [
        {
          "output_type": "display_data",
          "data": {
            "image/png": "[encoded data removed]",
            "text/plain": [
              "<Figure size 432x288 with 1 Axes>"
            ]
          },
          "metadata": {
            "tags": []
          }
        }
      ]
    },
    {
      "cell_type": "code",
      "metadata": {
        "id": "sKf_csU2LPjC",
        "colab_type": "code",
        "outputId": "e6ac6263-d190-4ddf-f3ed-addc16ec5870",
        "colab": {
          "base_uri": "https://localhost:8080/",
          "height": 295
        }
      },
      "source": [
        "plt.scatter(df.reanalysis_air_temp_k, df.total_cases, c = \"blue\", marker = \"s\")\n",
        "plt.title(\"mean air temperature vs total_cases\")\n",
        "plt.xlabel(\"mean air temperature\")\n",
        "plt.ylabel(\"total_cases\")\n",
        "plt.show()"
      ],
      "execution_count": 0,
      "outputs": [
        {
          "output_type": "display_data",
          "data": {
            "image/png": "[encoded data removed]",
            "text/plain": [
              "<Figure size 432x288 with 1 Axes>"
            ]
          },
          "metadata": {
            "tags": []
          }
        }
      ]
    },
    {
      "cell_type": "code",
      "metadata": {
        "id": "xAtZvrGONaim",
        "colab_type": "code",
        "outputId": "43505089-b8c1-4d45-bae0-6c846b1a03d4",
        "colab": {
          "base_uri": "https://localhost:8080/",
          "height": 295
        }
      },
      "source": [
        "plt.scatter(df.ndvi_se, df.total_cases, c = \"blue\", marker = \"s\")\n",
        "plt.title(\"ndvi southeast of city centroid vs total_cases\")\n",
        "plt.xlabel(\"ndvi southeast of city centroid\")\n",
        "plt.ylabel(\"total_cases\")\n",
        "plt.show()"
      ],
      "execution_count": 0,
      "outputs": [
        {
          "output_type": "display_data",
          "data": {
            "image/png": "[encoded data removed]",
            "text/plain": [
              "<Figure size 432x288 with 1 Axes>"
            ]
          },
          "metadata": {
            "tags": []
          }
        }
      ]
    },
    {
      "cell_type": "code",
      "metadata": {
        "id": "Ru488iJUOEXN",
        "colab_type": "code",
        "outputId": "db8cb9b7-77a2-44ca-9ed3-fefc5e091ad6",
        "colab": {
          "base_uri": "https://localhost:8080/",
          "height": 295
        }
      },
      "source": [
        "plt.scatter(df.reanalysis_tdtr_k, df.total_cases, c = \"blue\", marker = \"s\")\n",
        "plt.title(\"diurnal temperature range vs total_cases\")\n",
        "plt.xlabel(\"diurnal temperature range\")\n",
        "plt.ylabel(\"total_cases\")\n",
        "plt.show()"
      ],
      "execution_count": 0,
      "outputs": [
        {
          "output_type": "display_data",
          "data": {
            "image/png": "[encoded data removed]",
            "text/plain": [
              "<Figure size 432x288 with 1 Axes>"
            ]
          },
          "metadata": {
            "tags": []
          }
        }
      ]
    },
    {
      "cell_type": "code",
      "metadata": {
        "id": "DdrV1wPzOSeo",
        "colab_type": "code",
        "outputId": "43647963-ffd3-4d4a-ffb0-3a3717f5a959",
        "colab": {
          "base_uri": "https://localhost:8080/",
          "height": 295
        }
      },
      "source": [
        "plt.scatter(df.reanalysis_dew_point_temp_k, df.total_cases, c = \"blue\", marker = \"s\")\n",
        "plt.title(\"mean dew point temperature vs total_cases\")\n",
        "plt.xlabel(\"mean dew point temperature\")\n",
        "plt.ylabel(\"total_cases\")\n",
        "plt.show()"
      ],
      "execution_count": 0,
      "outputs": [
        {
          "output_type": "display_data",
          "data": {
            "image/png": "[encoded data removed]",
            "text/plain": [
              "<Figure size 432x288 with 1 Axes>"
            ]
          },
          "metadata": {
            "tags": []
          }
        }
      ]
    },
    {
      "cell_type": "code",
      "metadata": {
        "id": "OzztvsRvOSlK",
        "colab_type": "code",
        "outputId": "0e9ac4e7-4339-4608-d131-256930943c77",
        "colab": {
          "base_uri": "https://localhost:8080/",
          "height": 295
        }
      },
      "source": [
        "plt.scatter(df.ndvi_ne, df.total_cases, c = \"blue\", marker = \"s\")\n",
        "plt.title(\"ndvi northeast of city centroid vs total_cases\")\n",
        "plt.xlabel(\"ndvi northeast of city centroid\")\n",
        "plt.ylabel(\"total_cases\")\n",
        "plt.show()"
      ],
      "execution_count": 0,
      "outputs": [
        {
          "output_type": "display_data",
          "data": {
            "image/png": "[encoded data removed]",
            "text/plain": [
              "<Figure size 432x288 with 1 Axes>"
            ]
          },
          "metadata": {
            "tags": []
          }
        }
      ]
    },
    {
      "cell_type": "markdown",
      "metadata": {
        "id": "DPFcEg07fh36",
        "colab_type": "text"
      },
      "source": [
        "## Split the Data into Trainning and Validation Data"
      ]
    },
    {
      "cell_type": "markdown",
      "metadata": {
        "id": "hw9NdFD6Shte",
        "colab_type": "text"
      },
      "source": [
        "*   X_train1\n",
        "*   y_train1\n",
        "*   X-test1\n"
      ]
    },
    {
      "cell_type": "code",
      "metadata": {
        "id": "waIPFlQDSvue",
        "colab_type": "code",
        "outputId": "ef19fb51-bd72-4ba0-9046-b93cf3a00c32",
        "colab": {
          "base_uri": "https://localhost:8080/",
          "height": 68
        }
      },
      "source": [
        "print(X_train1.shape)\n",
        "print(y_train1.shape)\n",
        "print(X_test1.shape)"
      ],
      "execution_count": 0,
      "outputs": [
        {
          "output_type": "stream",
          "text": [
            "(1455, 43)\n",
            "(1455, 4)\n",
            "(416, 43)\n"
          ],
          "name": "stdout"
        }
      ]
    },
    {
      "cell_type": "code",
      "metadata": {
        "id": "FixSVb86S7In",
        "colab_type": "code",
        "outputId": "7dfda143-2498-4f6f-dc73-4a37cf61c2ea",
        "colab": {
          "base_uri": "https://localhost:8080/",
          "height": 204
        }
      },
      "source": [
        "y_train1.head()"
      ],
      "execution_count": 0,
      "outputs": [
        {
          "output_type": "execute_result",
          "data": {
            "text/html": [
              "<div>\n",
              "<style scoped>\n",
              "    .dataframe tbody tr th:only-of-type {\n",
              "        vertical-align: middle;\n",
              "    }\n",
              "\n",
              "    .dataframe tbody tr th {\n",
              "        vertical-align: top;\n",
              "    }\n",
              "\n",
              "    .dataframe thead th {\n",
              "        text-align: right;\n",
              "    }\n",
              "</style>\n",
              "<table border=\"1\" class=\"dataframe\">\n",
              "  <thead>\n",
              "    <tr style=\"text-align: right;\">\n",
              "      <th></th>\n",
              "      <th>city</th>\n",
              "      <th>year</th>\n",
              "      <th>weekofyear</th>\n",
              "      <th>total_cases</th>\n",
              "    </tr>\n",
              "  </thead>\n",
              "  <tbody>\n",
              "    <tr>\n",
              "      <th>0</th>\n",
              "      <td>sj</td>\n",
              "      <td>1990</td>\n",
              "      <td>18</td>\n",
              "      <td>4</td>\n",
              "    </tr>\n",
              "    <tr>\n",
              "      <th>1</th>\n",
              "      <td>sj</td>\n",
              "      <td>1990</td>\n",
              "      <td>19</td>\n",
              "      <td>5</td>\n",
              "    </tr>\n",
              "    <tr>\n",
              "      <th>2</th>\n",
              "      <td>sj</td>\n",
              "      <td>1990</td>\n",
              "      <td>20</td>\n",
              "      <td>4</td>\n",
              "    </tr>\n",
              "    <tr>\n",
              "      <th>3</th>\n",
              "      <td>sj</td>\n",
              "      <td>1990</td>\n",
              "      <td>21</td>\n",
              "      <td>3</td>\n",
              "    </tr>\n",
              "    <tr>\n",
              "      <th>4</th>\n",
              "      <td>sj</td>\n",
              "      <td>1990</td>\n",
              "      <td>22</td>\n",
              "      <td>6</td>\n",
              "    </tr>\n",
              "  </tbody>\n",
              "</table>\n",
              "</div>"
            ],
            "text/plain": [
              "  city  year  weekofyear  total_cases\n",
              "0   sj  1990          18            4\n",
              "1   sj  1990          19            5\n",
              "2   sj  1990          20            4\n",
              "3   sj  1990          21            3\n",
              "4   sj  1990          22            6"
            ]
          },
          "metadata": {
            "tags": []
          },
          "execution_count": 188
        }
      ]
    },
    {
      "cell_type": "code",
      "metadata": {
        "id": "8Fjisk7CS-2t",
        "colab_type": "code",
        "colab": {}
      },
      "source": [
        "X_train1['total_cases'] = y_train1['total_cases']"
      ],
      "execution_count": 0,
      "outputs": []
    },
    {
      "cell_type": "code",
      "metadata": {
        "id": "jJZzvkQ_TFfM",
        "colab_type": "code",
        "colab": {}
      },
      "source": [
        "X_train1.head()"
      ],
      "execution_count": 0,
      "outputs": []
    },
    {
      "cell_type": "code",
      "metadata": {
        "id": "WXLzUJycOSuP",
        "colab_type": "code",
        "colab": {}
      },
      "source": [
        "from sklearn.model_selection import train_test_split\n",
        "\n",
        "train, val = train_test_split(X_train1, test_size=0.3, random_state=42)"
      ],
      "execution_count": 0,
      "outputs": []
    },
    {
      "cell_type": "code",
      "metadata": {
        "id": "0EIY7pUfU7iQ",
        "colab_type": "code",
        "outputId": "487f1af1-eb87-48e0-e766-bfdacc291472",
        "colab": {
          "base_uri": "https://localhost:8080/",
          "height": 224
        }
      },
      "source": [
        "train.head()"
      ],
      "execution_count": 0,
      "outputs": [
        {
          "output_type": "execute_result",
          "data": {
            "text/html": [
              "<div>\n",
              "<style scoped>\n",
              "    .dataframe tbody tr th:only-of-type {\n",
              "        vertical-align: middle;\n",
              "    }\n",
              "\n",
              "    .dataframe tbody tr th {\n",
              "        vertical-align: top;\n",
              "    }\n",
              "\n",
              "    .dataframe thead th {\n",
              "        text-align: right;\n",
              "    }\n",
              "</style>\n",
              "<table border=\"1\" class=\"dataframe\">\n",
              "  <thead>\n",
              "    <tr style=\"text-align: right;\">\n",
              "      <th></th>\n",
              "      <th>weekofyear</th>\n",
              "      <th>ndvi_ne</th>\n",
              "      <th>ndvi_nw</th>\n",
              "      <th>ndvi_se</th>\n",
              "      <th>ndvi_sw</th>\n",
              "      <th>precipitation_amt_mm</th>\n",
              "      <th>reanalysis_air_temp_k</th>\n",
              "      <th>reanalysis_avg_temp_k</th>\n",
              "      <th>reanalysis_dew_point_temp_k</th>\n",
              "      <th>reanalysis_max_air_temp_k</th>\n",
              "      <th>reanalysis_min_air_temp_k</th>\n",
              "      <th>reanalysis_precip_amt_kg_per_m2</th>\n",
              "      <th>reanalysis_relative_humidity_percent</th>\n",
              "      <th>reanalysis_sat_precip_amt_mm</th>\n",
              "      <th>reanalysis_specific_humidity_g_per_kg</th>\n",
              "      <th>reanalysis_tdtr_k</th>\n",
              "      <th>station_avg_temp_c</th>\n",
              "      <th>station_diur_temp_rng_c</th>\n",
              "      <th>station_max_temp_c</th>\n",
              "      <th>station_min_temp_c</th>\n",
              "      <th>station_precip_mm</th>\n",
              "      <th>weekofyear_lag1</th>\n",
              "      <th>ndvi_ne_lag1</th>\n",
              "      <th>ndvi_nw_lag1</th>\n",
              "      <th>ndvi_se_lag1</th>\n",
              "      <th>ndvi_sw_lag1</th>\n",
              "      <th>precipitation_amt_mm_lag1</th>\n",
              "      <th>reanalysis_air_temp_k_lag1</th>\n",
              "      <th>reanalysis_avg_temp_k_lag1</th>\n",
              "      <th>reanalysis_dew_point_temp_k_lag1</th>\n",
              "      <th>reanalysis_max_air_temp_k_lag1</th>\n",
              "      <th>reanalysis_min_air_temp_k_lag1</th>\n",
              "      <th>reanalysis_precip_amt_kg_per_m2_lag1</th>\n",
              "      <th>reanalysis_relative_humidity_percent_lag1</th>\n",
              "      <th>reanalysis_sat_precip_amt_mm_lag1</th>\n",
              "      <th>reanalysis_specific_humidity_g_per_kg_lag1</th>\n",
              "      <th>reanalysis_tdtr_k_lag1</th>\n",
              "      <th>station_avg_temp_c_lag1</th>\n",
              "      <th>station_diur_temp_rng_c_lag1</th>\n",
              "      <th>station_max_temp_c_lag1</th>\n",
              "      <th>station_min_temp_c_lag1</th>\n",
              "      <th>station_precip_mm_lag1</th>\n",
              "      <th>city_sj</th>\n",
              "      <th>total_cases</th>\n",
              "    </tr>\n",
              "  </thead>\n",
              "  <tbody>\n",
              "    <tr>\n",
              "      <th>464</th>\n",
              "      <td>13</td>\n",
              "      <td>0.054100</td>\n",
              "      <td>-0.098100</td>\n",
              "      <td>0.157267</td>\n",
              "      <td>0.137057</td>\n",
              "      <td>15.91</td>\n",
              "      <td>298.308571</td>\n",
              "      <td>298.414286</td>\n",
              "      <td>294.377143</td>\n",
              "      <td>300.4</td>\n",
              "      <td>296.1</td>\n",
              "      <td>8.90</td>\n",
              "      <td>78.910000</td>\n",
              "      <td>15.91</td>\n",
              "      <td>15.732857</td>\n",
              "      <td>2.314286</td>\n",
              "      <td>25.742857</td>\n",
              "      <td>6.900000</td>\n",
              "      <td>30.6</td>\n",
              "      <td>21.7</td>\n",
              "      <td>7.9</td>\n",
              "      <td>12.0</td>\n",
              "      <td>0.135000</td>\n",
              "      <td>0.032333</td>\n",
              "      <td>0.198800</td>\n",
              "      <td>0.183057</td>\n",
              "      <td>5.24</td>\n",
              "      <td>298.222857</td>\n",
              "      <td>298.450000</td>\n",
              "      <td>293.230000</td>\n",
              "      <td>300.5</td>\n",
              "      <td>296.3</td>\n",
              "      <td>3.10</td>\n",
              "      <td>73.940000</td>\n",
              "      <td>5.24</td>\n",
              "      <td>14.671429</td>\n",
              "      <td>2.842857</td>\n",
              "      <td>25.671429</td>\n",
              "      <td>7.671429</td>\n",
              "      <td>30.6</td>\n",
              "      <td>21.1</td>\n",
              "      <td>0.0</td>\n",
              "      <td>1</td>\n",
              "      <td>22</td>\n",
              "    </tr>\n",
              "    <tr>\n",
              "      <th>471</th>\n",
              "      <td>20</td>\n",
              "      <td>NaN</td>\n",
              "      <td>0.090667</td>\n",
              "      <td>0.194471</td>\n",
              "      <td>0.169157</td>\n",
              "      <td>33.82</td>\n",
              "      <td>299.775714</td>\n",
              "      <td>299.935714</td>\n",
              "      <td>295.268571</td>\n",
              "      <td>302.6</td>\n",
              "      <td>297.0</td>\n",
              "      <td>22.10</td>\n",
              "      <td>76.598571</td>\n",
              "      <td>33.82</td>\n",
              "      <td>16.651429</td>\n",
              "      <td>3.185714</td>\n",
              "      <td>27.828571</td>\n",
              "      <td>7.328571</td>\n",
              "      <td>33.3</td>\n",
              "      <td>23.3</td>\n",
              "      <td>14.3</td>\n",
              "      <td>19.0</td>\n",
              "      <td>NaN</td>\n",
              "      <td>0.057800</td>\n",
              "      <td>0.080400</td>\n",
              "      <td>0.081120</td>\n",
              "      <td>46.50</td>\n",
              "      <td>299.098571</td>\n",
              "      <td>299.121429</td>\n",
              "      <td>294.572857</td>\n",
              "      <td>301.0</td>\n",
              "      <td>297.2</td>\n",
              "      <td>14.28</td>\n",
              "      <td>76.308571</td>\n",
              "      <td>46.50</td>\n",
              "      <td>15.967143</td>\n",
              "      <td>2.585714</td>\n",
              "      <td>26.957143</td>\n",
              "      <td>7.628571</td>\n",
              "      <td>32.8</td>\n",
              "      <td>21.7</td>\n",
              "      <td>73.1</td>\n",
              "      <td>1</td>\n",
              "      <td>20</td>\n",
              "    </tr>\n",
              "    <tr>\n",
              "      <th>1328</th>\n",
              "      <td>3</td>\n",
              "      <td>0.188229</td>\n",
              "      <td>0.220829</td>\n",
              "      <td>0.233243</td>\n",
              "      <td>0.169971</td>\n",
              "      <td>95.97</td>\n",
              "      <td>298.034286</td>\n",
              "      <td>299.478571</td>\n",
              "      <td>297.090000</td>\n",
              "      <td>305.5</td>\n",
              "      <td>292.4</td>\n",
              "      <td>63.92</td>\n",
              "      <td>94.968571</td>\n",
              "      <td>95.97</td>\n",
              "      <td>18.865714</td>\n",
              "      <td>8.585714</td>\n",
              "      <td>27.433333</td>\n",
              "      <td>9.466667</td>\n",
              "      <td>33.8</td>\n",
              "      <td>21.8</td>\n",
              "      <td>125.3</td>\n",
              "      <td>2.0</td>\n",
              "      <td>0.444933</td>\n",
              "      <td>0.275850</td>\n",
              "      <td>0.356900</td>\n",
              "      <td>0.469729</td>\n",
              "      <td>71.84</td>\n",
              "      <td>296.095714</td>\n",
              "      <td>296.535714</td>\n",
              "      <td>295.200000</td>\n",
              "      <td>302.1</td>\n",
              "      <td>293.3</td>\n",
              "      <td>62.61</td>\n",
              "      <td>95.280000</td>\n",
              "      <td>71.84</td>\n",
              "      <td>16.681429</td>\n",
              "      <td>5.100000</td>\n",
              "      <td>25.800000</td>\n",
              "      <td>6.300000</td>\n",
              "      <td>31.4</td>\n",
              "      <td>22.6</td>\n",
              "      <td>104.4</td>\n",
              "      <td>0</td>\n",
              "      <td>26</td>\n",
              "    </tr>\n",
              "    <tr>\n",
              "      <th>435</th>\n",
              "      <td>37</td>\n",
              "      <td>0.074650</td>\n",
              "      <td>0.057967</td>\n",
              "      <td>0.151886</td>\n",
              "      <td>0.122000</td>\n",
              "      <td>72.73</td>\n",
              "      <td>300.147143</td>\n",
              "      <td>300.200000</td>\n",
              "      <td>297.160000</td>\n",
              "      <td>302.0</td>\n",
              "      <td>298.7</td>\n",
              "      <td>73.60</td>\n",
              "      <td>84.002857</td>\n",
              "      <td>72.73</td>\n",
              "      <td>18.724286</td>\n",
              "      <td>2.028571</td>\n",
              "      <td>28.328571</td>\n",
              "      <td>6.842857</td>\n",
              "      <td>32.2</td>\n",
              "      <td>24.4</td>\n",
              "      <td>61.3</td>\n",
              "      <td>36.0</td>\n",
              "      <td>0.038800</td>\n",
              "      <td>0.054033</td>\n",
              "      <td>0.158543</td>\n",
              "      <td>0.145643</td>\n",
              "      <td>47.74</td>\n",
              "      <td>300.687143</td>\n",
              "      <td>300.707143</td>\n",
              "      <td>297.328571</td>\n",
              "      <td>303.4</td>\n",
              "      <td>298.4</td>\n",
              "      <td>52.50</td>\n",
              "      <td>82.192857</td>\n",
              "      <td>47.74</td>\n",
              "      <td>18.908571</td>\n",
              "      <td>2.900000</td>\n",
              "      <td>28.757143</td>\n",
              "      <td>7.128571</td>\n",
              "      <td>33.9</td>\n",
              "      <td>22.8</td>\n",
              "      <td>27.4</td>\n",
              "      <td>1</td>\n",
              "      <td>99</td>\n",
              "    </tr>\n",
              "    <tr>\n",
              "      <th>1206</th>\n",
              "      <td>36</td>\n",
              "      <td>0.335429</td>\n",
              "      <td>0.200714</td>\n",
              "      <td>0.322886</td>\n",
              "      <td>0.309143</td>\n",
              "      <td>36.98</td>\n",
              "      <td>300.058571</td>\n",
              "      <td>301.214286</td>\n",
              "      <td>294.005714</td>\n",
              "      <td>309.3</td>\n",
              "      <td>293.4</td>\n",
              "      <td>4.20</td>\n",
              "      <td>71.971429</td>\n",
              "      <td>36.98</td>\n",
              "      <td>15.518571</td>\n",
              "      <td>13.714286</td>\n",
              "      <td>NaN</td>\n",
              "      <td>NaN</td>\n",
              "      <td>NaN</td>\n",
              "      <td>21.8</td>\n",
              "      <td>44.0</td>\n",
              "      <td>35.0</td>\n",
              "      <td>0.456833</td>\n",
              "      <td>0.359583</td>\n",
              "      <td>0.359450</td>\n",
              "      <td>0.380117</td>\n",
              "      <td>12.81</td>\n",
              "      <td>298.184286</td>\n",
              "      <td>299.371429</td>\n",
              "      <td>293.918571</td>\n",
              "      <td>308.6</td>\n",
              "      <td>292.4</td>\n",
              "      <td>11.00</td>\n",
              "      <td>79.647143</td>\n",
              "      <td>12.81</td>\n",
              "      <td>15.428571</td>\n",
              "      <td>10.942857</td>\n",
              "      <td>26.800000</td>\n",
              "      <td>10.250000</td>\n",
              "      <td>35.2</td>\n",
              "      <td>21.4</td>\n",
              "      <td>37.0</td>\n",
              "      <td>0</td>\n",
              "      <td>0</td>\n",
              "    </tr>\n",
              "  </tbody>\n",
              "</table>\n",
              "</div>"
            ],
            "text/plain": [
              "      weekofyear   ndvi_ne  ...  city_sj  total_cases\n",
              "464           13  0.054100  ...        1           22\n",
              "471           20       NaN  ...        1           20\n",
              "1328           3  0.188229  ...        0           26\n",
              "435           37  0.074650  ...        1           99\n",
              "1206          36  0.335429  ...        0            0\n",
              "\n",
              "[5 rows x 44 columns]"
            ]
          },
          "metadata": {
            "tags": []
          },
          "execution_count": 196
        }
      ]
    },
    {
      "cell_type": "code",
      "metadata": {
        "id": "Dvjy37n-IuNF",
        "colab_type": "code",
        "colab": {}
      },
      "source": [
        "train_feature = train.drop(['total_cases'], axis=1)\n",
        "train_label = train.total_cases\n",
        "\n",
        "val_feature = val.drop(['total_cases'], axis=1)\n",
        "val_label = val.total_cases"
      ],
      "execution_count": 0,
      "outputs": []
    },
    {
      "cell_type": "code",
      "metadata": {
        "id": "e33p6YRNVOkk",
        "colab_type": "code",
        "outputId": "da90bb8f-2f8c-4ae6-9e6d-81787017d92f",
        "colab": {
          "base_uri": "https://localhost:8080/",
          "height": 85
        }
      },
      "source": [
        "print(train_feature.shape)\n",
        "print(train_label.shape)\n",
        "\n",
        "print(val_feature.shape)\n",
        "print(val_label.shape)"
      ],
      "execution_count": 0,
      "outputs": [
        {
          "output_type": "stream",
          "text": [
            "(1018, 43)\n",
            "(1018,)\n",
            "(437, 43)\n",
            "(437,)\n"
          ],
          "name": "stdout"
        }
      ]
    },
    {
      "cell_type": "markdown",
      "metadata": {
        "id": "_fNUf4MDLF3Q",
        "colab_type": "text"
      },
      "source": [
        "# XGBoost"
      ]
    },
    {
      "cell_type": "markdown",
      "metadata": {
        "id": "oWO_Tx8yLJRh",
        "colab_type": "text"
      },
      "source": [
        "## Fit a Default XGBoost"
      ]
    },
    {
      "cell_type": "code",
      "metadata": {
        "id": "buQdVOcaBpNK",
        "colab_type": "code",
        "colab": {}
      },
      "source": [
        "import xgboost\n",
        "\n",
        "xgb_rg = xgboost.XGBRegressor(seed=42) "
      ],
      "execution_count": 0,
      "outputs": []
    },
    {
      "cell_type": "code",
      "metadata": {
        "id": "CYclOv2WEe7L",
        "colab_type": "code",
        "outputId": "e738ab21-0497-463d-a521-d206e3cf23c9",
        "colab": {
          "base_uri": "https://localhost:8080/",
          "height": 153
        }
      },
      "source": [
        "xgb_rg.fit(train_feature, train_label)"
      ],
      "execution_count": 0,
      "outputs": [
        {
          "output_type": "stream",
          "text": [
            "[22:35:11] WARNING: /workspace/src/objective/regression_obj.cu:152: reg:linear is now deprecated in favor of reg:squarederror.\n"
          ],
          "name": "stdout"
        },
        {
          "output_type": "execute_result",
          "data": {
            "text/plain": [
              "XGBRegressor(base_score=0.5, booster='gbtree', colsample_bylevel=1,\n",
              "             colsample_bynode=1, colsample_bytree=1, gamma=0,\n",
              "             importance_type='gain', learning_rate=0.1, max_delta_step=0,\n",
              "             max_depth=3, min_child_weight=1, missing=None, n_estimators=100,\n",
              "             n_jobs=1, nthread=None, objective='reg:linear', random_state=0,\n",
              "             reg_alpha=0, reg_lambda=1, scale_pos_weight=1, seed=42,\n",
              "             silent=None, subsample=1, verbosity=1)"
            ]
          },
          "metadata": {
            "tags": []
          },
          "execution_count": 207
        }
      ]
    },
    {
      "cell_type": "code",
      "metadata": {
        "id": "j5M1yztxIEs6",
        "colab_type": "code",
        "colab": {}
      },
      "source": [
        "val_pred = xgb_rg.predict(val_feature)"
      ],
      "execution_count": 0,
      "outputs": []
    },
    {
      "cell_type": "code",
      "metadata": {
        "id": "1evCi0zjJhDt",
        "colab_type": "code",
        "outputId": "dedcc3ba-050f-4dfa-c68c-49f0e665c739",
        "colab": {
          "base_uri": "https://localhost:8080/",
          "height": 34
        }
      },
      "source": [
        "from sklearn.metrics import mean_absolute_error\n",
        "\n",
        "mean_absolute_error(val_label, val_pred)"
      ],
      "execution_count": 0,
      "outputs": [
        {
          "output_type": "execute_result",
          "data": {
            "text/plain": [
              "17.252850139986734"
            ]
          },
          "metadata": {
            "tags": []
          },
          "execution_count": 209
        }
      ]
    },
    {
      "cell_type": "markdown",
      "metadata": {
        "id": "M4Gw8A7KLOD7",
        "colab_type": "text"
      },
      "source": [
        "## Cross-Validation"
      ]
    },
    {
      "cell_type": "code",
      "metadata": {
        "id": "5_p82XAoJuK-",
        "colab_type": "code",
        "colab": {}
      },
      "source": [
        "import xgboost as xgb\n",
        "\n",
        "data_dmatrix = xgb.DMatrix(data=train_feature, label=train_label)"
      ],
      "execution_count": 0,
      "outputs": []
    },
    {
      "cell_type": "code",
      "metadata": {
        "id": "Wcc1aWLnKZsz",
        "colab_type": "code",
        "colab": {}
      },
      "source": [
        "params = {\"objective\":\"reg:linear\", 'colsample_bytree': 0.3,'learning_rate': 0.1,\n",
        "          'max_depth': 5, 'alpha': 10}"
      ],
      "execution_count": 0,
      "outputs": []
    },
    {
      "cell_type": "code",
      "metadata": {
        "id": "Bx_I6e7vH_Bh",
        "colab_type": "code",
        "outputId": "22f99a3f-cbc1-49da-c071-0b40670c5092",
        "colab": {
          "base_uri": "https://localhost:8080/",
          "height": 357
        }
      },
      "source": [
        "cv_results = xgb.cv(dtrain=data_dmatrix, params=params, nfold=20, num_boost_round=50, early_stopping_rounds=10, metrics=\"mae\", as_pandas=True, seed=42)"
      ],
      "execution_count": 0,
      "outputs": [
        {
          "output_type": "stream",
          "text": [
            "[22:35:21] WARNING: /workspace/src/objective/regression_obj.cu:152: reg:linear is now deprecated in favor of reg:squarederror.\n",
            "[22:35:21] WARNING: /workspace/src/objective/regression_obj.cu:152: reg:linear is now deprecated in favor of reg:squarederror.\n",
            "[22:35:21] WARNING: /workspace/src/objective/regression_obj.cu:152: reg:linear is now deprecated in favor of reg:squarederror.\n",
            "[22:35:21] WARNING: /workspace/src/objective/regression_obj.cu:152: reg:linear is now deprecated in favor of reg:squarederror.\n",
            "[22:35:21] WARNING: /workspace/src/objective/regression_obj.cu:152: reg:linear is now deprecated in favor of reg:squarederror.\n",
            "[22:35:21] WARNING: /workspace/src/objective/regression_obj.cu:152: reg:linear is now deprecated in favor of reg:squarederror.\n",
            "[22:35:21] WARNING: /workspace/src/objective/regression_obj.cu:152: reg:linear is now deprecated in favor of reg:squarederror.\n",
            "[22:35:21] WARNING: /workspace/src/objective/regression_obj.cu:152: reg:linear is now deprecated in favor of reg:squarederror.\n",
            "[22:35:21] WARNING: /workspace/src/objective/regression_obj.cu:152: reg:linear is now deprecated in favor of reg:squarederror.\n",
            "[22:35:21] WARNING: /workspace/src/objective/regression_obj.cu:152: reg:linear is now deprecated in favor of reg:squarederror.\n",
            "[22:35:21] WARNING: /workspace/src/objective/regression_obj.cu:152: reg:linear is now deprecated in favor of reg:squarederror.\n",
            "[22:35:21] WARNING: /workspace/src/objective/regression_obj.cu:152: reg:linear is now deprecated in favor of reg:squarederror.\n",
            "[22:35:21] WARNING: /workspace/src/objective/regression_obj.cu:152: reg:linear is now deprecated in favor of reg:squarederror.\n",
            "[22:35:21] WARNING: /workspace/src/objective/regression_obj.cu:152: reg:linear is now deprecated in favor of reg:squarederror.\n",
            "[22:35:21] WARNING: /workspace/src/objective/regression_obj.cu:152: reg:linear is now deprecated in favor of reg:squarederror.\n",
            "[22:35:21] WARNING: /workspace/src/objective/regression_obj.cu:152: reg:linear is now deprecated in favor of reg:squarederror.\n",
            "[22:35:21] WARNING: /workspace/src/objective/regression_obj.cu:152: reg:linear is now deprecated in favor of reg:squarederror.\n",
            "[22:35:21] WARNING: /workspace/src/objective/regression_obj.cu:152: reg:linear is now deprecated in favor of reg:squarederror.\n",
            "[22:35:21] WARNING: /workspace/src/objective/regression_obj.cu:152: reg:linear is now deprecated in favor of reg:squarederror.\n",
            "[22:35:21] WARNING: /workspace/src/objective/regression_obj.cu:152: reg:linear is now deprecated in favor of reg:squarederror.\n"
          ],
          "name": "stdout"
        }
      ]
    },
    {
      "cell_type": "code",
      "metadata": {
        "id": "SJV3iBnSKvve",
        "colab_type": "code",
        "outputId": "03f95688-af21-44e3-a987-7449b4cc64eb",
        "colab": {
          "base_uri": "https://localhost:8080/",
          "height": 204
        }
      },
      "source": [
        "cv_results.head()"
      ],
      "execution_count": 0,
      "outputs": [
        {
          "output_type": "execute_result",
          "data": {
            "text/html": [
              "<div>\n",
              "<style scoped>\n",
              "    .dataframe tbody tr th:only-of-type {\n",
              "        vertical-align: middle;\n",
              "    }\n",
              "\n",
              "    .dataframe tbody tr th {\n",
              "        vertical-align: top;\n",
              "    }\n",
              "\n",
              "    .dataframe thead th {\n",
              "        text-align: right;\n",
              "    }\n",
              "</style>\n",
              "<table border=\"1\" class=\"dataframe\">\n",
              "  <thead>\n",
              "    <tr style=\"text-align: right;\">\n",
              "      <th></th>\n",
              "      <th>train-mae-mean</th>\n",
              "      <th>train-mae-std</th>\n",
              "      <th>test-mae-mean</th>\n",
              "      <th>test-mae-std</th>\n",
              "    </tr>\n",
              "  </thead>\n",
              "  <tbody>\n",
              "    <tr>\n",
              "      <th>0</th>\n",
              "      <td>21.061777</td>\n",
              "      <td>0.255928</td>\n",
              "      <td>21.100456</td>\n",
              "      <td>5.031635</td>\n",
              "    </tr>\n",
              "    <tr>\n",
              "      <th>1</th>\n",
              "      <td>19.382420</td>\n",
              "      <td>0.244875</td>\n",
              "      <td>19.555874</td>\n",
              "      <td>4.844859</td>\n",
              "    </tr>\n",
              "    <tr>\n",
              "      <th>2</th>\n",
              "      <td>18.011351</td>\n",
              "      <td>0.242319</td>\n",
              "      <td>18.382968</td>\n",
              "      <td>4.675678</td>\n",
              "    </tr>\n",
              "    <tr>\n",
              "      <th>3</th>\n",
              "      <td>16.880823</td>\n",
              "      <td>0.240018</td>\n",
              "      <td>17.451412</td>\n",
              "      <td>4.425970</td>\n",
              "    </tr>\n",
              "    <tr>\n",
              "      <th>4</th>\n",
              "      <td>15.961141</td>\n",
              "      <td>0.236394</td>\n",
              "      <td>16.745228</td>\n",
              "      <td>4.316698</td>\n",
              "    </tr>\n",
              "  </tbody>\n",
              "</table>\n",
              "</div>"
            ],
            "text/plain": [
              "   train-mae-mean  train-mae-std  test-mae-mean  test-mae-std\n",
              "0       21.061777       0.255928      21.100456      5.031635\n",
              "1       19.382420       0.244875      19.555874      4.844859\n",
              "2       18.011351       0.242319      18.382968      4.675678\n",
              "3       16.880823       0.240018      17.451412      4.425970\n",
              "4       15.961141       0.236394      16.745228      4.316698"
            ]
          },
          "metadata": {
            "tags": []
          },
          "execution_count": 213
        }
      ]
    },
    {
      "cell_type": "code",
      "metadata": {
        "id": "EUjNBoYeK5RY",
        "colab_type": "code",
        "outputId": "61ed8f51-c123-4228-99c8-44b7dda2779c",
        "colab": {
          "base_uri": "https://localhost:8080/",
          "height": 51
        }
      },
      "source": [
        "print((cv_results[\"test-mae-mean\"]).tail(1))"
      ],
      "execution_count": 0,
      "outputs": [
        {
          "output_type": "stream",
          "text": [
            "17    14.634856\n",
            "Name: test-mae-mean, dtype: float64\n"
          ],
          "name": "stdout"
        }
      ]
    },
    {
      "cell_type": "markdown",
      "metadata": {
        "id": "c1I5xbZQLbvf",
        "colab_type": "text"
      },
      "source": [
        "## Feature Importance"
      ]
    },
    {
      "cell_type": "code",
      "metadata": {
        "id": "tK7H4BRsExnF",
        "colab_type": "code",
        "outputId": "50137259-de24-459c-a6a2-785ec9d8abb9",
        "colab": {
          "base_uri": "https://localhost:8080/",
          "height": 697
        }
      },
      "source": [
        "# print feature importance\n",
        "# order by importance\n",
        "listofTuples = sorted(xgb_rg.get_booster().get_score(importance_type='weight').items() ,  key=lambda x: x[1], reverse=True)\n",
        "\n",
        "for elem in listofTuples :\n",
        "    print(elem[0] , \" ::\" , elem[1] )"
      ],
      "execution_count": 0,
      "outputs": [
        {
          "output_type": "stream",
          "text": [
            "weekofyear  :: 62\n",
            "ndvi_se  :: 48\n",
            "ndvi_ne  :: 38\n",
            "reanalysis_air_temp_k  :: 37\n",
            "station_avg_temp_c_lag1  :: 31\n",
            "ndvi_se_lag1  :: 30\n",
            "reanalysis_tdtr_k  :: 28\n",
            "reanalysis_tdtr_k_lag1  :: 28\n",
            "reanalysis_min_air_temp_k_lag1  :: 23\n",
            "station_min_temp_c_lag1  :: 23\n",
            "precipitation_amt_mm_lag1  :: 20\n",
            "precipitation_amt_mm  :: 19\n",
            "reanalysis_dew_point_temp_k  :: 19\n",
            "reanalysis_dew_point_temp_k_lag1  :: 18\n",
            "weekofyear_lag1  :: 16\n",
            "station_diur_temp_rng_c_lag1  :: 16\n",
            "reanalysis_precip_amt_kg_per_m2_lag1  :: 14\n",
            "ndvi_ne_lag1  :: 14\n",
            "reanalysis_precip_amt_kg_per_m2  :: 14\n",
            "ndvi_nw_lag1  :: 14\n",
            "station_diur_temp_rng_c  :: 14\n",
            "reanalysis_min_air_temp_k  :: 13\n",
            "reanalysis_air_temp_k_lag1  :: 13\n",
            "reanalysis_avg_temp_k_lag1  :: 13\n",
            "ndvi_sw_lag1  :: 12\n",
            "station_precip_mm  :: 12\n",
            "ndvi_sw  :: 10\n",
            "station_avg_temp_c  :: 9\n",
            "station_min_temp_c  :: 9\n",
            "ndvi_nw  :: 9\n",
            "reanalysis_relative_humidity_percent  :: 9\n",
            "reanalysis_specific_humidity_g_per_kg  :: 6\n",
            "reanalysis_max_air_temp_k_lag1  :: 5\n",
            "reanalysis_max_air_temp_k  :: 5\n",
            "station_max_temp_c  :: 5\n",
            "station_max_temp_c_lag1  :: 4\n",
            "reanalysis_avg_temp_k  :: 2\n",
            "reanalysis_specific_humidity_g_per_kg_lag1  :: 1\n",
            "station_precip_mm_lag1  :: 1\n",
            "reanalysis_relative_humidity_percent_lag1  :: 1\n"
          ],
          "name": "stdout"
        }
      ]
    },
    {
      "cell_type": "markdown",
      "metadata": {
        "id": "Xj7zDTMELU7X",
        "colab_type": "text"
      },
      "source": [
        "## Fine Tune Hyperparameters"
      ]
    },
    {
      "cell_type": "code",
      "metadata": {
        "id": "bcL3B8XouDW4",
        "colab_type": "code",
        "colab": {}
      },
      "source": [
        "from sklearn.model_selection import RandomizedSearchCV\n",
        "from scipy.stats import randint\n",
        "from scipy.stats import uniform\n",
        "from time import time\n",
        "\n",
        "# set parameter range \n",
        "# https://xgboost.readthedocs.io/en/latest/parameter.html\n",
        "param_distribs = {\n",
        "    'booster': ['gbtree'],\n",
        "    'eval_metric': ['mae'],\n",
        "    'eta': uniform(loc=0, scale=1),\n",
        "    'min_child_weight': uniform(loc=0, scale=5),\n",
        "    'max_depth': randint(low=1, high=10),\n",
        "    'gamma': uniform(loc=0, scale=10),\n",
        "    'subsample': uniform(loc=0.5, scale=1),\n",
        "    'colsample_bytree': uniform(loc=0.5, scale=1),\n",
        "    'lambda': uniform(loc=0, scale=10),\n",
        "    'alpha': uniform(loc=0, scale=10),\n",
        "    'scale_pos_weight': uniform(loc=0, scale=10),\n",
        "}"
      ],
      "execution_count": 0,
      "outputs": []
    },
    {
      "cell_type": "code",
      "metadata": {
        "id": "o76JBjenuDlA",
        "colab_type": "code",
        "outputId": "8a5cdf56-f705-4734-9212-6f1c8c988496",
        "colab": {
          "base_uri": "https://localhost:8080/",
          "height": 51
        }
      },
      "source": [
        "import xgboost\n",
        "\n",
        "xgb_reg = xgboost.XGBRegressor(random_state=42)\n",
        "rnd_search_xgb = RandomizedSearchCV(xgb_reg, param_distributions=param_distribs, n_jobs=-1, n_iter=500, cv=5, scoring='neg_mean_absolute_error', random_state=42)\n",
        "\n",
        "start = time()\n",
        "rnd_search_xgb.fit(train_feature, train_label)\n",
        "print(\"RandomizedSearchCV took %.2f seconds for %d candidate parameter settings.\"\n",
        "      % (time() - start, len(rnd_search_xgb.cv_results_['params'])))"
      ],
      "execution_count": 0,
      "outputs": [
        {
          "output_type": "stream",
          "text": [
            "[23:16:48] WARNING: /workspace/src/objective/regression_obj.cu:152: reg:linear is now deprecated in favor of reg:squarederror.\n",
            "RandomizedSearchCV took 218.89 seconds for 500 candidate parameter settings.\n"
          ],
          "name": "stdout"
        }
      ]
    },
    {
      "cell_type": "code",
      "metadata": {
        "id": "JzUlT4qeuDrL",
        "colab_type": "code",
        "outputId": "867b19ef-8416-407e-e8e1-c53b7d058fbd",
        "colab": {
          "base_uri": "https://localhost:8080/",
          "height": 34
        }
      },
      "source": [
        "\"{:.4f}\".format(-rnd_search_xgb.best_score_)"
      ],
      "execution_count": 0,
      "outputs": [
        {
          "output_type": "execute_result",
          "data": {
            "text/plain": [
              "'14.8681'"
            ]
          },
          "metadata": {
            "tags": []
          },
          "execution_count": 220
        }
      ]
    },
    {
      "cell_type": "code",
      "metadata": {
        "id": "wiWiu6xHNzSy",
        "colab_type": "code",
        "outputId": "a80c6269-d5fd-4d8b-cb5f-e931e9f29978",
        "colab": {
          "base_uri": "https://localhost:8080/",
          "height": 204
        }
      },
      "source": [
        "rnd_search_xgb.best_params_"
      ],
      "execution_count": 0,
      "outputs": [
        {
          "output_type": "execute_result",
          "data": {
            "text/plain": [
              "{'alpha': 1.1443151861235856,\n",
              " 'booster': 'gbtree',\n",
              " 'colsample_bytree': 0.5087061470625436,\n",
              " 'eta': 0.1555714368693023,\n",
              " 'eval_metric': 'mae',\n",
              " 'gamma': 2.072729790676676,\n",
              " 'lambda': 6.3058094158309235,\n",
              " 'max_depth': 8,\n",
              " 'min_child_weight': 0.6483948911211768,\n",
              " 'scale_pos_weight': 2.5646306101676597,\n",
              " 'subsample': 0.8553197484738877}"
            ]
          },
          "metadata": {
            "tags": []
          },
          "execution_count": 221
        }
      ]
    },
    {
      "cell_type": "code",
      "metadata": {
        "id": "Cgc_OBkoNzYQ",
        "colab_type": "code",
        "colab": {}
      },
      "source": [
        "best_xgb = rnd_search_xgb.best_estimator_"
      ],
      "execution_count": 0,
      "outputs": []
    },
    {
      "cell_type": "code",
      "metadata": {
        "id": "MRhQHhM4NzWG",
        "colab_type": "code",
        "outputId": "5876e76c-fa16-408b-8b10-2879150c507f",
        "colab": {
          "base_uri": "https://localhost:8080/",
          "height": 34
        }
      },
      "source": [
        "val_pred = best_xgb.predict(val_feature)\n",
        "\n",
        "print(\"Mean Absolute Error for XGBoost: \", \"{:.4f}\".format(mean_absolute_error(val_label, val_pred)))"
      ],
      "execution_count": 0,
      "outputs": [
        {
          "output_type": "stream",
          "text": [
            "Mean Absolute Error for XGBoost:  16.8903\n"
          ],
          "name": "stdout"
        }
      ]
    },
    {
      "cell_type": "code",
      "metadata": {
        "id": "A5FvxvXnNzQh",
        "colab_type": "code",
        "outputId": "95621f56-a347-4868-ba35-7aa4e0d45e4e",
        "colab": {
          "base_uri": "https://localhost:8080/",
          "height": 194
        }
      },
      "source": [
        "import matplotlib.pyplot as plt\n",
        "\n",
        "xgb.plot_tree(best_xgb, num_trees=0)\n",
        "plt.rcParams['figure.figsize'] = [50, 50]\n",
        "plt.show()"
      ],
      "execution_count": 0,
      "outputs": [
        {
          "output_type": "display_data",
          "data": {
            "image/png": "[encoded data removed]",
            "text/plain": [
              "<Figure size 3600x3600 with 1 Axes>"
            ]
          },
          "metadata": {
            "tags": []
          }
        }
      ]
    },
    {
      "cell_type": "code",
      "metadata": {
        "id": "fuT5zYlPO-Af",
        "colab_type": "code",
        "outputId": "746dc4f8-9266-45b2-9864-a62b8a02e44c",
        "colab": {
          "base_uri": "https://localhost:8080/",
          "height": 621
        }
      },
      "source": [
        "xgb.plot_importance(best_xgb)\n",
        "plt.rcParams['figure.figsize'] = [10, 10]\n",
        "plt.show()"
      ],
      "execution_count": 0,
      "outputs": [
        {
          "output_type": "display_data",
          "data": {
            "image/png": "[encoded data removed]",
            "text/plain": [
              "<Figure size 720x720 with 1 Axes>"
            ]
          },
          "metadata": {
            "tags": []
          }
        }
      ]
    },
    {
      "cell_type": "markdown",
      "metadata": {
        "colab_type": "text",
        "id": "1zhE0OJSO6mU"
      },
      "source": [
        "## Predit Test Data Using Best Hyperparameter Model"
      ]
    },
    {
      "cell_type": "code",
      "metadata": {
        "id": "L8zjeiWFg1rf",
        "colab_type": "code",
        "outputId": "2c0b51f3-462b-4f2a-b1d1-31170049602d",
        "colab": {
          "base_uri": "https://localhost:8080/",
          "height": 224
        }
      },
      "source": [
        "X_test1 .head()"
      ],
      "execution_count": 0,
      "outputs": [
        {
          "output_type": "execute_result",
          "data": {
            "text/html": [
              "<div>\n",
              "<style scoped>\n",
              "    .dataframe tbody tr th:only-of-type {\n",
              "        vertical-align: middle;\n",
              "    }\n",
              "\n",
              "    .dataframe tbody tr th {\n",
              "        vertical-align: top;\n",
              "    }\n",
              "\n",
              "    .dataframe thead th {\n",
              "        text-align: right;\n",
              "    }\n",
              "</style>\n",
              "<table border=\"1\" class=\"dataframe\">\n",
              "  <thead>\n",
              "    <tr style=\"text-align: right;\">\n",
              "      <th></th>\n",
              "      <th>weekofyear</th>\n",
              "      <th>ndvi_ne</th>\n",
              "      <th>ndvi_nw</th>\n",
              "      <th>ndvi_se</th>\n",
              "      <th>ndvi_sw</th>\n",
              "      <th>precipitation_amt_mm</th>\n",
              "      <th>reanalysis_air_temp_k</th>\n",
              "      <th>reanalysis_avg_temp_k</th>\n",
              "      <th>reanalysis_dew_point_temp_k</th>\n",
              "      <th>reanalysis_max_air_temp_k</th>\n",
              "      <th>reanalysis_min_air_temp_k</th>\n",
              "      <th>reanalysis_precip_amt_kg_per_m2</th>\n",
              "      <th>reanalysis_relative_humidity_percent</th>\n",
              "      <th>reanalysis_sat_precip_amt_mm</th>\n",
              "      <th>reanalysis_specific_humidity_g_per_kg</th>\n",
              "      <th>reanalysis_tdtr_k</th>\n",
              "      <th>station_avg_temp_c</th>\n",
              "      <th>station_diur_temp_rng_c</th>\n",
              "      <th>station_max_temp_c</th>\n",
              "      <th>station_min_temp_c</th>\n",
              "      <th>station_precip_mm</th>\n",
              "      <th>weekofyear_lag1</th>\n",
              "      <th>ndvi_ne_lag1</th>\n",
              "      <th>ndvi_nw_lag1</th>\n",
              "      <th>ndvi_se_lag1</th>\n",
              "      <th>ndvi_sw_lag1</th>\n",
              "      <th>precipitation_amt_mm_lag1</th>\n",
              "      <th>reanalysis_air_temp_k_lag1</th>\n",
              "      <th>reanalysis_avg_temp_k_lag1</th>\n",
              "      <th>reanalysis_dew_point_temp_k_lag1</th>\n",
              "      <th>reanalysis_max_air_temp_k_lag1</th>\n",
              "      <th>reanalysis_min_air_temp_k_lag1</th>\n",
              "      <th>reanalysis_precip_amt_kg_per_m2_lag1</th>\n",
              "      <th>reanalysis_relative_humidity_percent_lag1</th>\n",
              "      <th>reanalysis_sat_precip_amt_mm_lag1</th>\n",
              "      <th>reanalysis_specific_humidity_g_per_kg_lag1</th>\n",
              "      <th>reanalysis_tdtr_k_lag1</th>\n",
              "      <th>station_avg_temp_c_lag1</th>\n",
              "      <th>station_diur_temp_rng_c_lag1</th>\n",
              "      <th>station_max_temp_c_lag1</th>\n",
              "      <th>station_min_temp_c_lag1</th>\n",
              "      <th>station_precip_mm_lag1</th>\n",
              "      <th>city_sj</th>\n",
              "    </tr>\n",
              "  </thead>\n",
              "  <tbody>\n",
              "    <tr>\n",
              "      <th>0</th>\n",
              "      <td>18</td>\n",
              "      <td>-0.0189</td>\n",
              "      <td>-0.018900</td>\n",
              "      <td>0.102729</td>\n",
              "      <td>0.091200</td>\n",
              "      <td>78.60</td>\n",
              "      <td>298.492857</td>\n",
              "      <td>298.550000</td>\n",
              "      <td>294.527143</td>\n",
              "      <td>301.1</td>\n",
              "      <td>296.4</td>\n",
              "      <td>25.37</td>\n",
              "      <td>78.781429</td>\n",
              "      <td>78.60</td>\n",
              "      <td>15.918571</td>\n",
              "      <td>3.128571</td>\n",
              "      <td>26.528571</td>\n",
              "      <td>7.057143</td>\n",
              "      <td>33.3</td>\n",
              "      <td>21.7</td>\n",
              "      <td>75.2</td>\n",
              "      <td>17.0</td>\n",
              "      <td>-0.0370</td>\n",
              "      <td>-0.010367</td>\n",
              "      <td>0.077314</td>\n",
              "      <td>0.090586</td>\n",
              "      <td>0.00</td>\n",
              "      <td>298.672857</td>\n",
              "      <td>298.692857</td>\n",
              "      <td>294.280000</td>\n",
              "      <td>300.9</td>\n",
              "      <td>295.9</td>\n",
              "      <td>2.17</td>\n",
              "      <td>76.960000</td>\n",
              "      <td>0.00</td>\n",
              "      <td>15.671429</td>\n",
              "      <td>3.957143</td>\n",
              "      <td>27.042857</td>\n",
              "      <td>7.514286</td>\n",
              "      <td>31.7</td>\n",
              "      <td>23.3</td>\n",
              "      <td>0.3</td>\n",
              "      <td>1</td>\n",
              "    </tr>\n",
              "    <tr>\n",
              "      <th>1</th>\n",
              "      <td>19</td>\n",
              "      <td>-0.0180</td>\n",
              "      <td>-0.012400</td>\n",
              "      <td>0.082043</td>\n",
              "      <td>0.072314</td>\n",
              "      <td>12.56</td>\n",
              "      <td>298.475714</td>\n",
              "      <td>298.557143</td>\n",
              "      <td>294.395714</td>\n",
              "      <td>300.8</td>\n",
              "      <td>296.7</td>\n",
              "      <td>21.83</td>\n",
              "      <td>78.230000</td>\n",
              "      <td>12.56</td>\n",
              "      <td>15.791429</td>\n",
              "      <td>2.571429</td>\n",
              "      <td>26.071429</td>\n",
              "      <td>5.557143</td>\n",
              "      <td>30.0</td>\n",
              "      <td>22.2</td>\n",
              "      <td>34.3</td>\n",
              "      <td>18.0</td>\n",
              "      <td>-0.0189</td>\n",
              "      <td>-0.018900</td>\n",
              "      <td>0.102729</td>\n",
              "      <td>0.091200</td>\n",
              "      <td>78.60</td>\n",
              "      <td>298.492857</td>\n",
              "      <td>298.550000</td>\n",
              "      <td>294.527143</td>\n",
              "      <td>301.1</td>\n",
              "      <td>296.4</td>\n",
              "      <td>25.37</td>\n",
              "      <td>78.781429</td>\n",
              "      <td>78.60</td>\n",
              "      <td>15.918571</td>\n",
              "      <td>3.128571</td>\n",
              "      <td>26.528571</td>\n",
              "      <td>7.057143</td>\n",
              "      <td>33.3</td>\n",
              "      <td>21.7</td>\n",
              "      <td>75.2</td>\n",
              "      <td>1</td>\n",
              "    </tr>\n",
              "    <tr>\n",
              "      <th>2</th>\n",
              "      <td>20</td>\n",
              "      <td>-0.0015</td>\n",
              "      <td>NaN</td>\n",
              "      <td>0.151083</td>\n",
              "      <td>0.091529</td>\n",
              "      <td>3.66</td>\n",
              "      <td>299.455714</td>\n",
              "      <td>299.357143</td>\n",
              "      <td>295.308571</td>\n",
              "      <td>302.2</td>\n",
              "      <td>296.4</td>\n",
              "      <td>4.12</td>\n",
              "      <td>78.270000</td>\n",
              "      <td>3.66</td>\n",
              "      <td>16.674286</td>\n",
              "      <td>4.428571</td>\n",
              "      <td>27.928571</td>\n",
              "      <td>7.785714</td>\n",
              "      <td>32.8</td>\n",
              "      <td>22.8</td>\n",
              "      <td>3.0</td>\n",
              "      <td>19.0</td>\n",
              "      <td>-0.0180</td>\n",
              "      <td>-0.012400</td>\n",
              "      <td>0.082043</td>\n",
              "      <td>0.072314</td>\n",
              "      <td>12.56</td>\n",
              "      <td>298.475714</td>\n",
              "      <td>298.557143</td>\n",
              "      <td>294.395714</td>\n",
              "      <td>300.8</td>\n",
              "      <td>296.7</td>\n",
              "      <td>21.83</td>\n",
              "      <td>78.230000</td>\n",
              "      <td>12.56</td>\n",
              "      <td>15.791429</td>\n",
              "      <td>2.571429</td>\n",
              "      <td>26.071429</td>\n",
              "      <td>5.557143</td>\n",
              "      <td>30.0</td>\n",
              "      <td>22.2</td>\n",
              "      <td>34.3</td>\n",
              "      <td>1</td>\n",
              "    </tr>\n",
              "    <tr>\n",
              "      <th>3</th>\n",
              "      <td>21</td>\n",
              "      <td>NaN</td>\n",
              "      <td>-0.019867</td>\n",
              "      <td>0.124329</td>\n",
              "      <td>0.125686</td>\n",
              "      <td>0.00</td>\n",
              "      <td>299.690000</td>\n",
              "      <td>299.728571</td>\n",
              "      <td>294.402857</td>\n",
              "      <td>303.0</td>\n",
              "      <td>296.9</td>\n",
              "      <td>2.20</td>\n",
              "      <td>73.015714</td>\n",
              "      <td>0.00</td>\n",
              "      <td>15.775714</td>\n",
              "      <td>4.342857</td>\n",
              "      <td>28.057143</td>\n",
              "      <td>6.271429</td>\n",
              "      <td>33.3</td>\n",
              "      <td>24.4</td>\n",
              "      <td>0.3</td>\n",
              "      <td>20.0</td>\n",
              "      <td>-0.0015</td>\n",
              "      <td>NaN</td>\n",
              "      <td>0.151083</td>\n",
              "      <td>0.091529</td>\n",
              "      <td>3.66</td>\n",
              "      <td>299.455714</td>\n",
              "      <td>299.357143</td>\n",
              "      <td>295.308571</td>\n",
              "      <td>302.2</td>\n",
              "      <td>296.4</td>\n",
              "      <td>4.12</td>\n",
              "      <td>78.270000</td>\n",
              "      <td>3.66</td>\n",
              "      <td>16.674286</td>\n",
              "      <td>4.428571</td>\n",
              "      <td>27.928571</td>\n",
              "      <td>7.785714</td>\n",
              "      <td>32.8</td>\n",
              "      <td>22.8</td>\n",
              "      <td>3.0</td>\n",
              "      <td>1</td>\n",
              "    </tr>\n",
              "    <tr>\n",
              "      <th>4</th>\n",
              "      <td>22</td>\n",
              "      <td>0.0568</td>\n",
              "      <td>0.039833</td>\n",
              "      <td>0.062267</td>\n",
              "      <td>0.075914</td>\n",
              "      <td>0.76</td>\n",
              "      <td>299.780000</td>\n",
              "      <td>299.671429</td>\n",
              "      <td>294.760000</td>\n",
              "      <td>302.3</td>\n",
              "      <td>297.3</td>\n",
              "      <td>4.36</td>\n",
              "      <td>74.084286</td>\n",
              "      <td>0.76</td>\n",
              "      <td>16.137143</td>\n",
              "      <td>3.542857</td>\n",
              "      <td>27.614286</td>\n",
              "      <td>7.085714</td>\n",
              "      <td>33.3</td>\n",
              "      <td>23.3</td>\n",
              "      <td>84.1</td>\n",
              "      <td>21.0</td>\n",
              "      <td>NaN</td>\n",
              "      <td>-0.019867</td>\n",
              "      <td>0.124329</td>\n",
              "      <td>0.125686</td>\n",
              "      <td>0.00</td>\n",
              "      <td>299.690000</td>\n",
              "      <td>299.728571</td>\n",
              "      <td>294.402857</td>\n",
              "      <td>303.0</td>\n",
              "      <td>296.9</td>\n",
              "      <td>2.20</td>\n",
              "      <td>73.015714</td>\n",
              "      <td>0.00</td>\n",
              "      <td>15.775714</td>\n",
              "      <td>4.342857</td>\n",
              "      <td>28.057143</td>\n",
              "      <td>6.271429</td>\n",
              "      <td>33.3</td>\n",
              "      <td>24.4</td>\n",
              "      <td>0.3</td>\n",
              "      <td>1</td>\n",
              "    </tr>\n",
              "  </tbody>\n",
              "</table>\n",
              "</div>"
            ],
            "text/plain": [
              "   weekofyear  ndvi_ne  ...  station_precip_mm_lag1  city_sj\n",
              "0          18  -0.0189  ...                     0.3        1\n",
              "1          19  -0.0180  ...                    75.2        1\n",
              "2          20  -0.0015  ...                    34.3        1\n",
              "3          21      NaN  ...                     3.0        1\n",
              "4          22   0.0568  ...                     0.3        1\n",
              "\n",
              "[5 rows x 43 columns]"
            ]
          },
          "metadata": {
            "tags": []
          },
          "execution_count": 228
        }
      ]
    },
    {
      "cell_type": "code",
      "metadata": {
        "colab_type": "code",
        "id": "7UUkfhenO6mY",
        "colab": {}
      },
      "source": [
        "# predict on test data\n",
        "te_pred = best_xgb.predict(X_test1)"
      ],
      "execution_count": 0,
      "outputs": []
    },
    {
      "cell_type": "code",
      "metadata": {
        "colab_type": "code",
        "id": "jagNu5J7O6mr",
        "colab": {}
      },
      "source": [
        "# create submission dataframe\n",
        "submission = dengue_features_test.iloc[:,0:3]\n",
        "submission['total_cases'] = te_pred.astype(int)"
      ],
      "execution_count": 0,
      "outputs": []
    },
    {
      "cell_type": "code",
      "metadata": {
        "colab_type": "code",
        "outputId": "62add68d-4f63-4666-9539-5e98163e5564",
        "id": "RGwUWCRSO6m3",
        "colab": {
          "base_uri": "https://localhost:8080/",
          "height": 204
        }
      },
      "source": [
        "submission.head()"
      ],
      "execution_count": 0,
      "outputs": [
        {
          "output_type": "execute_result",
          "data": {
            "text/html": [
              "<div>\n",
              "<style scoped>\n",
              "    .dataframe tbody tr th:only-of-type {\n",
              "        vertical-align: middle;\n",
              "    }\n",
              "\n",
              "    .dataframe tbody tr th {\n",
              "        vertical-align: top;\n",
              "    }\n",
              "\n",
              "    .dataframe thead th {\n",
              "        text-align: right;\n",
              "    }\n",
              "</style>\n",
              "<table border=\"1\" class=\"dataframe\">\n",
              "  <thead>\n",
              "    <tr style=\"text-align: right;\">\n",
              "      <th></th>\n",
              "      <th>city</th>\n",
              "      <th>year</th>\n",
              "      <th>weekofyear</th>\n",
              "      <th>total_cases</th>\n",
              "    </tr>\n",
              "  </thead>\n",
              "  <tbody>\n",
              "    <tr>\n",
              "      <th>0</th>\n",
              "      <td>sj</td>\n",
              "      <td>2008</td>\n",
              "      <td>18</td>\n",
              "      <td>6</td>\n",
              "    </tr>\n",
              "    <tr>\n",
              "      <th>1</th>\n",
              "      <td>sj</td>\n",
              "      <td>2008</td>\n",
              "      <td>19</td>\n",
              "      <td>4</td>\n",
              "    </tr>\n",
              "    <tr>\n",
              "      <th>2</th>\n",
              "      <td>sj</td>\n",
              "      <td>2008</td>\n",
              "      <td>20</td>\n",
              "      <td>11</td>\n",
              "    </tr>\n",
              "    <tr>\n",
              "      <th>3</th>\n",
              "      <td>sj</td>\n",
              "      <td>2008</td>\n",
              "      <td>21</td>\n",
              "      <td>16</td>\n",
              "    </tr>\n",
              "    <tr>\n",
              "      <th>4</th>\n",
              "      <td>sj</td>\n",
              "      <td>2008</td>\n",
              "      <td>22</td>\n",
              "      <td>30</td>\n",
              "    </tr>\n",
              "  </tbody>\n",
              "</table>\n",
              "</div>"
            ],
            "text/plain": [
              "  city  year  weekofyear  total_cases\n",
              "0   sj  2008          18            6\n",
              "1   sj  2008          19            4\n",
              "2   sj  2008          20           11\n",
              "3   sj  2008          21           16\n",
              "4   sj  2008          22           30"
            ]
          },
          "metadata": {
            "tags": []
          },
          "execution_count": 233
        }
      ]
    },
    {
      "cell_type": "code",
      "metadata": {
        "id": "EDj8KKNWhS9e",
        "colab_type": "code",
        "colab": {}
      },
      "source": [
        "upload = './My Drive/submission_xgboost.csv'\n",
        "submission.to_csv(upload, index = False)"
      ],
      "execution_count": 0,
      "outputs": []
    }
  ]
}